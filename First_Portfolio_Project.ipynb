{
 "cells": [
  {
   "cell_type": "markdown",
   "metadata": {},
   "source": [
    "# Salary Predictions Based on Job Descriptions"
   ]
  },
  {
   "cell_type": "markdown",
   "metadata": {},
   "source": [
    "# Part 1 - DEFINE"
   ]
  },
  {
   "cell_type": "markdown",
   "metadata": {},
   "source": [
    "### ---- 1 Define the problem ----"
   ]
  },
  {
   "cell_type": "markdown",
   "metadata": {},
   "source": [
    "We have to first examine a certain set of job postings and their salaries. After understanding the data and how the salaries are based on various factors, we have to predict salaries for a different set of job postings."
   ]
  },
  {
   "cell_type": "code",
   "execution_count": 82,
   "metadata": {},
   "outputs": [],
   "source": [
    "#Imported the required libraries\n",
    "import pandas as pd\n",
    "import sklearn as sk\n",
    "import numpy as np\n",
    "import seaborn as sns\n",
    "import matplotlib.pyplot as plt\n",
    "import scipy.stats as stats\n",
    "\n",
    "#For Label Encoding\n",
    "from sklearn.preprocessing import LabelEncoder\n",
    "\n",
    "#For Normalization\n",
    "from sklearn.preprocessing import MinMaxScaler\n",
    "\n",
    "#For Linear Regression\n",
    "from sklearn import linear_model\n",
    "from sklearn.model_selection import train_test_split\n",
    "\n",
    "#For Polynomial Regression\n",
    "from sklearn.preprocessing import PolynomialFeatures\n",
    "\n",
    "# Fpr Mean Errors\n",
    "from sklearn.metrics import mean_absolute_error, mean_squared_error, r2_score\n",
    "\n",
    "# For Decision Tree Regression model\n",
    "from sklearn.tree import DecisionTreeRegressor\n",
    "\n",
    "# For Random Forest Regression model\n",
    "from sklearn.ensemble import RandomForestRegressor, GradientBoostingRegressor\n",
    "\n",
    "from sklearn.model_selection import cross_val_score\n",
    "\n",
    "from sklearn.metrics import accuracy_score\n",
    "from sklearn.ensemble import RandomForestClassifier\n",
    "from sklearn import svm\n",
    "\n",
    "#Author Information\n",
    "__author__ = \"Rini Lali\"\n",
    "__email__ = \"rinilali.91@outlook.com\""
   ]
  },
  {
   "cell_type": "markdown",
   "metadata": {},
   "source": [
    "## Part 2 - DISCOVER"
   ]
  },
  {
   "cell_type": "markdown",
   "metadata": {},
   "source": [
    "### ---- 2 Load the data ----"
   ]
  },
  {
   "cell_type": "code",
   "execution_count": 2,
   "metadata": {},
   "outputs": [],
   "source": [
    "#load the data into a Pandas dataframe\n",
    "# File path of the Data that is used for training the model\n",
    "path_train_f=\"C:/Users/abhis/Downloads/Rini/Studying/DSDJ/FirstProject/data/train_features.csv\"\n",
    "path_train_s=\"C:/Users/abhis/Downloads/Rini/Studying/DSDJ/FirstProject/data/train_salaries.csv\"\n",
    "\n",
    "# File path of the data in which the salaries needs to be predicted based on the model\n",
    "path_test_f=\"C:/Users/abhis/Downloads/Rini/Studying/DSDJ/FirstProject/data/test_features.csv\"\n",
    "\n",
    "# Reading the csv files into dataframes\n",
    "df_train_f= pd.read_csv(path_train_f,header=0)\n",
    "df_train_s= pd.read_csv(path_train_s,header=0)\n",
    "df_test_f= pd.read_csv(path_test_f,header=0)"
   ]
  },
  {
   "cell_type": "code",
   "execution_count": 3,
   "metadata": {},
   "outputs": [
    {
     "data": {
      "text/plain": [
       "jobId                  object\n",
       "companyId              object\n",
       "jobType                object\n",
       "degree                 object\n",
       "major                  object\n",
       "industry               object\n",
       "yearsExperience         int64\n",
       "milesFromMetropolis     int64\n",
       "dtype: object"
      ]
     },
     "execution_count": 3,
     "metadata": {},
     "output_type": "execute_result"
    }
   ],
   "source": [
    "# Describe the data to understand what type of data is present in the files\n",
    "df_train_f.dtypes"
   ]
  },
  {
   "cell_type": "code",
   "execution_count": 4,
   "metadata": {},
   "outputs": [
    {
     "data": {
      "text/plain": [
       "<bound method DataFrame.info of                    jobId companyId         jobType       degree      major  \\\n",
       "0       JOB1362684407687    COMP37             CFO      MASTERS       MATH   \n",
       "1       JOB1362684407688    COMP19             CEO  HIGH_SCHOOL       NONE   \n",
       "2       JOB1362684407689    COMP52  VICE_PRESIDENT     DOCTORAL    PHYSICS   \n",
       "3       JOB1362684407690    COMP38         MANAGER     DOCTORAL  CHEMISTRY   \n",
       "4       JOB1362684407691     COMP7  VICE_PRESIDENT    BACHELORS    PHYSICS   \n",
       "...                  ...       ...             ...          ...        ...   \n",
       "999995  JOB1362685407682    COMP56  VICE_PRESIDENT    BACHELORS  CHEMISTRY   \n",
       "999996  JOB1362685407683    COMP24             CTO  HIGH_SCHOOL       NONE   \n",
       "999997  JOB1362685407684    COMP23          JUNIOR  HIGH_SCHOOL       NONE   \n",
       "999998  JOB1362685407685     COMP3             CFO      MASTERS       NONE   \n",
       "999999  JOB1362685407686    COMP59          JUNIOR    BACHELORS       NONE   \n",
       "\n",
       "         industry  yearsExperience  milesFromMetropolis  \n",
       "0          HEALTH               10                   83  \n",
       "1             WEB                3                   73  \n",
       "2          HEALTH               10                   38  \n",
       "3            AUTO                8                   17  \n",
       "4         FINANCE                8                   16  \n",
       "...           ...              ...                  ...  \n",
       "999995     HEALTH               19                   94  \n",
       "999996    FINANCE               12                   35  \n",
       "999997  EDUCATION               16                   81  \n",
       "999998     HEALTH                6                    5  \n",
       "999999  EDUCATION               20                   11  \n",
       "\n",
       "[1000000 rows x 8 columns]>"
      ]
     },
     "execution_count": 4,
     "metadata": {},
     "output_type": "execute_result"
    }
   ],
   "source": [
    "# Summary of the data frame that needs to be examined to predict the salaries\n",
    "df_train_f.info"
   ]
  },
  {
   "cell_type": "code",
   "execution_count": 5,
   "metadata": {},
   "outputs": [
    {
     "data": {
      "text/html": [
       "<div>\n",
       "<style scoped>\n",
       "    .dataframe tbody tr th:only-of-type {\n",
       "        vertical-align: middle;\n",
       "    }\n",
       "\n",
       "    .dataframe tbody tr th {\n",
       "        vertical-align: top;\n",
       "    }\n",
       "\n",
       "    .dataframe thead th {\n",
       "        text-align: right;\n",
       "    }\n",
       "</style>\n",
       "<table border=\"1\" class=\"dataframe\">\n",
       "  <thead>\n",
       "    <tr style=\"text-align: right;\">\n",
       "      <th></th>\n",
       "      <th>jobId</th>\n",
       "      <th>companyId</th>\n",
       "      <th>jobType</th>\n",
       "      <th>degree</th>\n",
       "      <th>major</th>\n",
       "      <th>industry</th>\n",
       "      <th>yearsExperience</th>\n",
       "      <th>milesFromMetropolis</th>\n",
       "      <th>salary</th>\n",
       "    </tr>\n",
       "  </thead>\n",
       "  <tbody>\n",
       "    <tr>\n",
       "      <th>0</th>\n",
       "      <td>JOB1362684407687</td>\n",
       "      <td>COMP37</td>\n",
       "      <td>CFO</td>\n",
       "      <td>MASTERS</td>\n",
       "      <td>MATH</td>\n",
       "      <td>HEALTH</td>\n",
       "      <td>10</td>\n",
       "      <td>83</td>\n",
       "      <td>130</td>\n",
       "    </tr>\n",
       "    <tr>\n",
       "      <th>1</th>\n",
       "      <td>JOB1362684407688</td>\n",
       "      <td>COMP19</td>\n",
       "      <td>CEO</td>\n",
       "      <td>HIGH_SCHOOL</td>\n",
       "      <td>NONE</td>\n",
       "      <td>WEB</td>\n",
       "      <td>3</td>\n",
       "      <td>73</td>\n",
       "      <td>101</td>\n",
       "    </tr>\n",
       "    <tr>\n",
       "      <th>2</th>\n",
       "      <td>JOB1362684407689</td>\n",
       "      <td>COMP52</td>\n",
       "      <td>VICE_PRESIDENT</td>\n",
       "      <td>DOCTORAL</td>\n",
       "      <td>PHYSICS</td>\n",
       "      <td>HEALTH</td>\n",
       "      <td>10</td>\n",
       "      <td>38</td>\n",
       "      <td>137</td>\n",
       "    </tr>\n",
       "    <tr>\n",
       "      <th>3</th>\n",
       "      <td>JOB1362684407690</td>\n",
       "      <td>COMP38</td>\n",
       "      <td>MANAGER</td>\n",
       "      <td>DOCTORAL</td>\n",
       "      <td>CHEMISTRY</td>\n",
       "      <td>AUTO</td>\n",
       "      <td>8</td>\n",
       "      <td>17</td>\n",
       "      <td>142</td>\n",
       "    </tr>\n",
       "    <tr>\n",
       "      <th>4</th>\n",
       "      <td>JOB1362684407691</td>\n",
       "      <td>COMP7</td>\n",
       "      <td>VICE_PRESIDENT</td>\n",
       "      <td>BACHELORS</td>\n",
       "      <td>PHYSICS</td>\n",
       "      <td>FINANCE</td>\n",
       "      <td>8</td>\n",
       "      <td>16</td>\n",
       "      <td>163</td>\n",
       "    </tr>\n",
       "  </tbody>\n",
       "</table>\n",
       "</div>"
      ],
      "text/plain": [
       "              jobId companyId         jobType       degree      major  \\\n",
       "0  JOB1362684407687    COMP37             CFO      MASTERS       MATH   \n",
       "1  JOB1362684407688    COMP19             CEO  HIGH_SCHOOL       NONE   \n",
       "2  JOB1362684407689    COMP52  VICE_PRESIDENT     DOCTORAL    PHYSICS   \n",
       "3  JOB1362684407690    COMP38         MANAGER     DOCTORAL  CHEMISTRY   \n",
       "4  JOB1362684407691     COMP7  VICE_PRESIDENT    BACHELORS    PHYSICS   \n",
       "\n",
       "  industry  yearsExperience  milesFromMetropolis  salary  \n",
       "0   HEALTH               10                   83     130  \n",
       "1      WEB                3                   73     101  \n",
       "2   HEALTH               10                   38     137  \n",
       "3     AUTO                8                   17     142  \n",
       "4  FINANCE                8                   16     163  "
      ]
     },
     "execution_count": 5,
     "metadata": {},
     "output_type": "execute_result"
    }
   ],
   "source": [
    "# Merged and created one dataframe \"data_final\" with all the information(train_features+train_salaries)\n",
    "data_final = pd.merge(df_train_f, df_train_s,  \n",
    "                   on='jobId',  \n",
    "                   how='inner')\n",
    "data_final.head(5)"
   ]
  },
  {
   "cell_type": "code",
   "execution_count": 6,
   "metadata": {},
   "outputs": [
    {
     "data": {
      "text/html": [
       "<div>\n",
       "<style scoped>\n",
       "    .dataframe tbody tr th:only-of-type {\n",
       "        vertical-align: middle;\n",
       "    }\n",
       "\n",
       "    .dataframe tbody tr th {\n",
       "        vertical-align: top;\n",
       "    }\n",
       "\n",
       "    .dataframe thead th {\n",
       "        text-align: right;\n",
       "    }\n",
       "</style>\n",
       "<table border=\"1\" class=\"dataframe\">\n",
       "  <thead>\n",
       "    <tr style=\"text-align: right;\">\n",
       "      <th></th>\n",
       "      <th>yearsExperience</th>\n",
       "      <th>milesFromMetropolis</th>\n",
       "      <th>salary</th>\n",
       "    </tr>\n",
       "  </thead>\n",
       "  <tbody>\n",
       "    <tr>\n",
       "      <th>count</th>\n",
       "      <td>1000000.000000</td>\n",
       "      <td>1000000.000000</td>\n",
       "      <td>1000000.000000</td>\n",
       "    </tr>\n",
       "    <tr>\n",
       "      <th>mean</th>\n",
       "      <td>11.992386</td>\n",
       "      <td>49.529260</td>\n",
       "      <td>116.061818</td>\n",
       "    </tr>\n",
       "    <tr>\n",
       "      <th>std</th>\n",
       "      <td>7.212391</td>\n",
       "      <td>28.877733</td>\n",
       "      <td>38.717936</td>\n",
       "    </tr>\n",
       "    <tr>\n",
       "      <th>min</th>\n",
       "      <td>0.000000</td>\n",
       "      <td>0.000000</td>\n",
       "      <td>0.000000</td>\n",
       "    </tr>\n",
       "    <tr>\n",
       "      <th>25%</th>\n",
       "      <td>6.000000</td>\n",
       "      <td>25.000000</td>\n",
       "      <td>88.000000</td>\n",
       "    </tr>\n",
       "    <tr>\n",
       "      <th>50%</th>\n",
       "      <td>12.000000</td>\n",
       "      <td>50.000000</td>\n",
       "      <td>114.000000</td>\n",
       "    </tr>\n",
       "    <tr>\n",
       "      <th>75%</th>\n",
       "      <td>18.000000</td>\n",
       "      <td>75.000000</td>\n",
       "      <td>141.000000</td>\n",
       "    </tr>\n",
       "    <tr>\n",
       "      <th>max</th>\n",
       "      <td>24.000000</td>\n",
       "      <td>99.000000</td>\n",
       "      <td>301.000000</td>\n",
       "    </tr>\n",
       "  </tbody>\n",
       "</table>\n",
       "</div>"
      ],
      "text/plain": [
       "       yearsExperience  milesFromMetropolis          salary\n",
       "count   1000000.000000       1000000.000000  1000000.000000\n",
       "mean         11.992386            49.529260      116.061818\n",
       "std           7.212391            28.877733       38.717936\n",
       "min           0.000000             0.000000        0.000000\n",
       "25%           6.000000            25.000000       88.000000\n",
       "50%          12.000000            50.000000      114.000000\n",
       "75%          18.000000            75.000000      141.000000\n",
       "max          24.000000            99.000000      301.000000"
      ]
     },
     "execution_count": 6,
     "metadata": {},
     "output_type": "execute_result"
    }
   ],
   "source": [
    "#Statistical summary of the columns\n",
    "data_final.describe()"
   ]
  },
  {
   "cell_type": "markdown",
   "metadata": {},
   "source": [
    "In our data files, we have jobId, companyId, categorical columns (jobType, degree, major, industry) and numerical columns (yearsExperience, milesFromMetropolis, salary) that will be used to train/test the model.\n",
    "jobId - represents a unique identifier for the job posting"
   ]
  },
  {
   "cell_type": "markdown",
   "metadata": {},
   "source": [
    "### ---- 3 Clean the data ----\n",
    "Looking for duplicate data, invalid data (e.g. salaries <=0), or corrupted data."
   ]
  },
  {
   "cell_type": "code",
   "execution_count": 7,
   "metadata": {},
   "outputs": [
    {
     "data": {
      "text/html": [
       "<div>\n",
       "<style scoped>\n",
       "    .dataframe tbody tr th:only-of-type {\n",
       "        vertical-align: middle;\n",
       "    }\n",
       "\n",
       "    .dataframe tbody tr th {\n",
       "        vertical-align: top;\n",
       "    }\n",
       "\n",
       "    .dataframe thead th {\n",
       "        text-align: right;\n",
       "    }\n",
       "</style>\n",
       "<table border=\"1\" class=\"dataframe\">\n",
       "  <thead>\n",
       "    <tr style=\"text-align: right;\">\n",
       "      <th></th>\n",
       "      <th>jobId</th>\n",
       "      <th>companyId</th>\n",
       "      <th>jobType</th>\n",
       "      <th>degree</th>\n",
       "      <th>major</th>\n",
       "      <th>industry</th>\n",
       "      <th>yearsExperience</th>\n",
       "      <th>milesFromMetropolis</th>\n",
       "      <th>salary</th>\n",
       "    </tr>\n",
       "  </thead>\n",
       "  <tbody>\n",
       "    <tr>\n",
       "      <th>0</th>\n",
       "      <td>JOB1362684407687</td>\n",
       "      <td>COMP37</td>\n",
       "      <td>CFO</td>\n",
       "      <td>MASTERS</td>\n",
       "      <td>MATH</td>\n",
       "      <td>HEALTH</td>\n",
       "      <td>10</td>\n",
       "      <td>83</td>\n",
       "      <td>130</td>\n",
       "    </tr>\n",
       "    <tr>\n",
       "      <th>1</th>\n",
       "      <td>JOB1362684407688</td>\n",
       "      <td>COMP19</td>\n",
       "      <td>CEO</td>\n",
       "      <td>HIGH_SCHOOL</td>\n",
       "      <td>NONE</td>\n",
       "      <td>WEB</td>\n",
       "      <td>3</td>\n",
       "      <td>73</td>\n",
       "      <td>101</td>\n",
       "    </tr>\n",
       "    <tr>\n",
       "      <th>2</th>\n",
       "      <td>JOB1362684407689</td>\n",
       "      <td>COMP52</td>\n",
       "      <td>VICE_PRESIDENT</td>\n",
       "      <td>DOCTORAL</td>\n",
       "      <td>PHYSICS</td>\n",
       "      <td>HEALTH</td>\n",
       "      <td>10</td>\n",
       "      <td>38</td>\n",
       "      <td>137</td>\n",
       "    </tr>\n",
       "    <tr>\n",
       "      <th>3</th>\n",
       "      <td>JOB1362684407690</td>\n",
       "      <td>COMP38</td>\n",
       "      <td>MANAGER</td>\n",
       "      <td>DOCTORAL</td>\n",
       "      <td>CHEMISTRY</td>\n",
       "      <td>AUTO</td>\n",
       "      <td>8</td>\n",
       "      <td>17</td>\n",
       "      <td>142</td>\n",
       "    </tr>\n",
       "    <tr>\n",
       "      <th>4</th>\n",
       "      <td>JOB1362684407691</td>\n",
       "      <td>COMP7</td>\n",
       "      <td>VICE_PRESIDENT</td>\n",
       "      <td>BACHELORS</td>\n",
       "      <td>PHYSICS</td>\n",
       "      <td>FINANCE</td>\n",
       "      <td>8</td>\n",
       "      <td>16</td>\n",
       "      <td>163</td>\n",
       "    </tr>\n",
       "    <tr>\n",
       "      <th>...</th>\n",
       "      <td>...</td>\n",
       "      <td>...</td>\n",
       "      <td>...</td>\n",
       "      <td>...</td>\n",
       "      <td>...</td>\n",
       "      <td>...</td>\n",
       "      <td>...</td>\n",
       "      <td>...</td>\n",
       "      <td>...</td>\n",
       "    </tr>\n",
       "    <tr>\n",
       "      <th>999995</th>\n",
       "      <td>JOB1362685407682</td>\n",
       "      <td>COMP56</td>\n",
       "      <td>VICE_PRESIDENT</td>\n",
       "      <td>BACHELORS</td>\n",
       "      <td>CHEMISTRY</td>\n",
       "      <td>HEALTH</td>\n",
       "      <td>19</td>\n",
       "      <td>94</td>\n",
       "      <td>88</td>\n",
       "    </tr>\n",
       "    <tr>\n",
       "      <th>999996</th>\n",
       "      <td>JOB1362685407683</td>\n",
       "      <td>COMP24</td>\n",
       "      <td>CTO</td>\n",
       "      <td>HIGH_SCHOOL</td>\n",
       "      <td>NONE</td>\n",
       "      <td>FINANCE</td>\n",
       "      <td>12</td>\n",
       "      <td>35</td>\n",
       "      <td>160</td>\n",
       "    </tr>\n",
       "    <tr>\n",
       "      <th>999997</th>\n",
       "      <td>JOB1362685407684</td>\n",
       "      <td>COMP23</td>\n",
       "      <td>JUNIOR</td>\n",
       "      <td>HIGH_SCHOOL</td>\n",
       "      <td>NONE</td>\n",
       "      <td>EDUCATION</td>\n",
       "      <td>16</td>\n",
       "      <td>81</td>\n",
       "      <td>64</td>\n",
       "    </tr>\n",
       "    <tr>\n",
       "      <th>999998</th>\n",
       "      <td>JOB1362685407685</td>\n",
       "      <td>COMP3</td>\n",
       "      <td>CFO</td>\n",
       "      <td>MASTERS</td>\n",
       "      <td>NONE</td>\n",
       "      <td>HEALTH</td>\n",
       "      <td>6</td>\n",
       "      <td>5</td>\n",
       "      <td>149</td>\n",
       "    </tr>\n",
       "    <tr>\n",
       "      <th>999999</th>\n",
       "      <td>JOB1362685407686</td>\n",
       "      <td>COMP59</td>\n",
       "      <td>JUNIOR</td>\n",
       "      <td>BACHELORS</td>\n",
       "      <td>NONE</td>\n",
       "      <td>EDUCATION</td>\n",
       "      <td>20</td>\n",
       "      <td>11</td>\n",
       "      <td>88</td>\n",
       "    </tr>\n",
       "  </tbody>\n",
       "</table>\n",
       "<p>1000000 rows × 9 columns</p>\n",
       "</div>"
      ],
      "text/plain": [
       "                   jobId companyId         jobType       degree      major  \\\n",
       "0       JOB1362684407687    COMP37             CFO      MASTERS       MATH   \n",
       "1       JOB1362684407688    COMP19             CEO  HIGH_SCHOOL       NONE   \n",
       "2       JOB1362684407689    COMP52  VICE_PRESIDENT     DOCTORAL    PHYSICS   \n",
       "3       JOB1362684407690    COMP38         MANAGER     DOCTORAL  CHEMISTRY   \n",
       "4       JOB1362684407691     COMP7  VICE_PRESIDENT    BACHELORS    PHYSICS   \n",
       "...                  ...       ...             ...          ...        ...   \n",
       "999995  JOB1362685407682    COMP56  VICE_PRESIDENT    BACHELORS  CHEMISTRY   \n",
       "999996  JOB1362685407683    COMP24             CTO  HIGH_SCHOOL       NONE   \n",
       "999997  JOB1362685407684    COMP23          JUNIOR  HIGH_SCHOOL       NONE   \n",
       "999998  JOB1362685407685     COMP3             CFO      MASTERS       NONE   \n",
       "999999  JOB1362685407686    COMP59          JUNIOR    BACHELORS       NONE   \n",
       "\n",
       "         industry  yearsExperience  milesFromMetropolis  salary  \n",
       "0          HEALTH               10                   83     130  \n",
       "1             WEB                3                   73     101  \n",
       "2          HEALTH               10                   38     137  \n",
       "3            AUTO                8                   17     142  \n",
       "4         FINANCE                8                   16     163  \n",
       "...           ...              ...                  ...     ...  \n",
       "999995     HEALTH               19                   94      88  \n",
       "999996    FINANCE               12                   35     160  \n",
       "999997  EDUCATION               16                   81      64  \n",
       "999998     HEALTH                6                    5     149  \n",
       "999999  EDUCATION               20                   11      88  \n",
       "\n",
       "[1000000 rows x 9 columns]"
      ]
     },
     "execution_count": 7,
     "metadata": {},
     "output_type": "execute_result"
    }
   ],
   "source": [
    "# Checked for duplicates and removed them\n",
    "duplicateRowsDF=data_final.duplicated()\n",
    "data_final.drop_duplicates()"
   ]
  },
  {
   "cell_type": "markdown",
   "metadata": {},
   "source": [
    "There were no duplicates found in the data set."
   ]
  },
  {
   "cell_type": "code",
   "execution_count": 8,
   "metadata": {},
   "outputs": [
    {
     "data": {
      "text/html": [
       "<div>\n",
       "<style scoped>\n",
       "    .dataframe tbody tr th:only-of-type {\n",
       "        vertical-align: middle;\n",
       "    }\n",
       "\n",
       "    .dataframe tbody tr th {\n",
       "        vertical-align: top;\n",
       "    }\n",
       "\n",
       "    .dataframe thead th {\n",
       "        text-align: right;\n",
       "    }\n",
       "</style>\n",
       "<table border=\"1\" class=\"dataframe\">\n",
       "  <thead>\n",
       "    <tr style=\"text-align: right;\">\n",
       "      <th></th>\n",
       "      <th>jobId</th>\n",
       "      <th>companyId</th>\n",
       "      <th>jobType</th>\n",
       "      <th>degree</th>\n",
       "      <th>major</th>\n",
       "      <th>industry</th>\n",
       "      <th>yearsExperience</th>\n",
       "      <th>milesFromMetropolis</th>\n",
       "      <th>salary</th>\n",
       "    </tr>\n",
       "  </thead>\n",
       "  <tbody>\n",
       "    <tr>\n",
       "      <th>0</th>\n",
       "      <td>False</td>\n",
       "      <td>False</td>\n",
       "      <td>False</td>\n",
       "      <td>False</td>\n",
       "      <td>False</td>\n",
       "      <td>False</td>\n",
       "      <td>False</td>\n",
       "      <td>False</td>\n",
       "      <td>False</td>\n",
       "    </tr>\n",
       "    <tr>\n",
       "      <th>1</th>\n",
       "      <td>False</td>\n",
       "      <td>False</td>\n",
       "      <td>False</td>\n",
       "      <td>False</td>\n",
       "      <td>False</td>\n",
       "      <td>False</td>\n",
       "      <td>False</td>\n",
       "      <td>False</td>\n",
       "      <td>False</td>\n",
       "    </tr>\n",
       "    <tr>\n",
       "      <th>2</th>\n",
       "      <td>False</td>\n",
       "      <td>False</td>\n",
       "      <td>False</td>\n",
       "      <td>False</td>\n",
       "      <td>False</td>\n",
       "      <td>False</td>\n",
       "      <td>False</td>\n",
       "      <td>False</td>\n",
       "      <td>False</td>\n",
       "    </tr>\n",
       "    <tr>\n",
       "      <th>3</th>\n",
       "      <td>False</td>\n",
       "      <td>False</td>\n",
       "      <td>False</td>\n",
       "      <td>False</td>\n",
       "      <td>False</td>\n",
       "      <td>False</td>\n",
       "      <td>False</td>\n",
       "      <td>False</td>\n",
       "      <td>False</td>\n",
       "    </tr>\n",
       "    <tr>\n",
       "      <th>4</th>\n",
       "      <td>False</td>\n",
       "      <td>False</td>\n",
       "      <td>False</td>\n",
       "      <td>False</td>\n",
       "      <td>False</td>\n",
       "      <td>False</td>\n",
       "      <td>False</td>\n",
       "      <td>False</td>\n",
       "      <td>False</td>\n",
       "    </tr>\n",
       "  </tbody>\n",
       "</table>\n",
       "</div>"
      ],
      "text/plain": [
       "   jobId  companyId  jobType  degree  major  industry  yearsExperience  \\\n",
       "0  False      False    False   False  False     False            False   \n",
       "1  False      False    False   False  False     False            False   \n",
       "2  False      False    False   False  False     False            False   \n",
       "3  False      False    False   False  False     False            False   \n",
       "4  False      False    False   False  False     False            False   \n",
       "\n",
       "   milesFromMetropolis  salary  \n",
       "0                False   False  \n",
       "1                False   False  \n",
       "2                False   False  \n",
       "3                False   False  \n",
       "4                False   False  "
      ]
     },
     "execution_count": 8,
     "metadata": {},
     "output_type": "execute_result"
    }
   ],
   "source": [
    "# Checking for missing Data if any\n",
    "missing_data = data_final.isnull()\n",
    "missing_data.head(5)"
   ]
  },
  {
   "cell_type": "code",
   "execution_count": 9,
   "metadata": {},
   "outputs": [
    {
     "name": "stdout",
     "output_type": "stream",
     "text": [
      "jobId\n",
      "False    1000000\n",
      "Name: jobId, dtype: int64\n",
      "\n",
      "companyId\n",
      "False    1000000\n",
      "Name: companyId, dtype: int64\n",
      "\n",
      "jobType\n",
      "False    1000000\n",
      "Name: jobType, dtype: int64\n",
      "\n",
      "degree\n",
      "False    1000000\n",
      "Name: degree, dtype: int64\n",
      "\n",
      "major\n",
      "False    1000000\n",
      "Name: major, dtype: int64\n",
      "\n",
      "industry\n",
      "False    1000000\n",
      "Name: industry, dtype: int64\n",
      "\n",
      "yearsExperience\n",
      "False    1000000\n",
      "Name: yearsExperience, dtype: int64\n",
      "\n",
      "milesFromMetropolis\n",
      "False    1000000\n",
      "Name: milesFromMetropolis, dtype: int64\n",
      "\n",
      "salary\n",
      "False    1000000\n",
      "Name: salary, dtype: int64\n",
      "\n"
     ]
    }
   ],
   "source": [
    "# Checked for missing data using value-counts function\n",
    "for column in missing_data.columns.values.tolist():\n",
    "    print(column)\n",
    "    print(missing_data[column].value_counts())\n",
    "    print(\"\")"
   ]
  },
  {
   "cell_type": "markdown",
   "metadata": {},
   "source": [
    "No data was missing in the data set."
   ]
  },
  {
   "cell_type": "code",
   "execution_count": 10,
   "metadata": {},
   "outputs": [
    {
     "data": {
      "text/plain": [
       "[30559, 495984, 652076, 816129, 828156]"
      ]
     },
     "execution_count": 10,
     "metadata": {},
     "output_type": "execute_result"
    }
   ],
   "source": [
    "# Checking for invalid Data in the columns\n",
    "sal_incrr=data_final.index[data_final['salary']==0].to_list()\n",
    "sal_incrr"
   ]
  },
  {
   "cell_type": "markdown",
   "metadata": {},
   "source": [
    "We found that, in the salary column, there was invalid data."
   ]
  },
  {
   "cell_type": "code",
   "execution_count": 11,
   "metadata": {},
   "outputs": [],
   "source": [
    "# Replaced the columns having invalid Data with the mean salary for the respective job type\n",
    "grp = data_final.groupby('jobType')   \n",
    "grp['salary'].agg([np.mean])\n",
    "\n",
    "i=0\n",
    "len_sal=len(sal_incrr)\n",
    "while i < len_sal:\n",
    "    str_job=data_final.loc[sal_incrr[i],'jobType']\n",
    "    sal=round(grp.get_group(str_job)['salary'].mean())\n",
    "    data_final.loc[sal_incrr[i],'salary']=sal\n",
    "    i += 1"
   ]
  },
  {
   "cell_type": "code",
   "execution_count": 12,
   "metadata": {},
   "outputs": [
    {
     "data": {
      "text/plain": [
       "[]"
      ]
     },
     "execution_count": 12,
     "metadata": {},
     "output_type": "execute_result"
    }
   ],
   "source": [
    "# Replaced the invalid data and checked again if any invalid data is present\n",
    "sal_incrr1=data_final.index[data_final['salary']==0].to_list()\n",
    "sal_incrr1\n",
    "#data_final.to_csv(\"C:/Users/abhis/Downloads/Rini/Studying/DSDJ/FirstProject/data/Train_Data.csv\", index=False)"
   ]
  },
  {
   "cell_type": "code",
   "execution_count": 13,
   "metadata": {},
   "outputs": [],
   "source": [
    "# Stored the cleaned Data is a new CSV file for further analysis\n",
    "data_final.to_csv(\"C:/Users/abhis/Downloads/Rini/Studying/DSDJ/FirstProject/data/Train_Data.csv\", index=False)"
   ]
  },
  {
   "cell_type": "markdown",
   "metadata": {},
   "source": [
    "We have prepared and cleaned the data for further analysis. The final data is stored in the \"Train_Data\" csv file."
   ]
  },
  {
   "cell_type": "markdown",
   "metadata": {},
   "source": [
    "### ---- 4 Explore the data (EDA) ----\n",
    "\n",
    "Preliminary step in Data Analysis :-\n",
    "\n",
    "     1) We need to summarize the main characteristics of data\n",
    "     2) Understand the data\n",
    "     3) Check for relationships betweens the variables present in the data\n",
    "     "
   ]
  },
  {
   "cell_type": "code",
   "execution_count": 14,
   "metadata": {},
   "outputs": [
    {
     "data": {
      "text/html": [
       "<div>\n",
       "<style scoped>\n",
       "    .dataframe tbody tr th:only-of-type {\n",
       "        vertical-align: middle;\n",
       "    }\n",
       "\n",
       "    .dataframe tbody tr th {\n",
       "        vertical-align: top;\n",
       "    }\n",
       "\n",
       "    .dataframe thead th {\n",
       "        text-align: right;\n",
       "    }\n",
       "</style>\n",
       "<table border=\"1\" class=\"dataframe\">\n",
       "  <thead>\n",
       "    <tr style=\"text-align: right;\">\n",
       "      <th></th>\n",
       "      <th>jobId</th>\n",
       "      <th>companyId</th>\n",
       "      <th>jobType</th>\n",
       "      <th>degree</th>\n",
       "      <th>major</th>\n",
       "      <th>industry</th>\n",
       "      <th>yearsExperience</th>\n",
       "      <th>milesFromMetropolis</th>\n",
       "      <th>salary</th>\n",
       "    </tr>\n",
       "  </thead>\n",
       "  <tbody>\n",
       "    <tr>\n",
       "      <th>0</th>\n",
       "      <td>JOB1362684407687</td>\n",
       "      <td>COMP37</td>\n",
       "      <td>CFO</td>\n",
       "      <td>MASTERS</td>\n",
       "      <td>MATH</td>\n",
       "      <td>HEALTH</td>\n",
       "      <td>10</td>\n",
       "      <td>83</td>\n",
       "      <td>130</td>\n",
       "    </tr>\n",
       "    <tr>\n",
       "      <th>1</th>\n",
       "      <td>JOB1362684407688</td>\n",
       "      <td>COMP19</td>\n",
       "      <td>CEO</td>\n",
       "      <td>HIGH_SCHOOL</td>\n",
       "      <td>NONE</td>\n",
       "      <td>WEB</td>\n",
       "      <td>3</td>\n",
       "      <td>73</td>\n",
       "      <td>101</td>\n",
       "    </tr>\n",
       "    <tr>\n",
       "      <th>2</th>\n",
       "      <td>JOB1362684407689</td>\n",
       "      <td>COMP52</td>\n",
       "      <td>VICE_PRESIDENT</td>\n",
       "      <td>DOCTORAL</td>\n",
       "      <td>PHYSICS</td>\n",
       "      <td>HEALTH</td>\n",
       "      <td>10</td>\n",
       "      <td>38</td>\n",
       "      <td>137</td>\n",
       "    </tr>\n",
       "    <tr>\n",
       "      <th>3</th>\n",
       "      <td>JOB1362684407690</td>\n",
       "      <td>COMP38</td>\n",
       "      <td>MANAGER</td>\n",
       "      <td>DOCTORAL</td>\n",
       "      <td>CHEMISTRY</td>\n",
       "      <td>AUTO</td>\n",
       "      <td>8</td>\n",
       "      <td>17</td>\n",
       "      <td>142</td>\n",
       "    </tr>\n",
       "    <tr>\n",
       "      <th>4</th>\n",
       "      <td>JOB1362684407691</td>\n",
       "      <td>COMP7</td>\n",
       "      <td>VICE_PRESIDENT</td>\n",
       "      <td>BACHELORS</td>\n",
       "      <td>PHYSICS</td>\n",
       "      <td>FINANCE</td>\n",
       "      <td>8</td>\n",
       "      <td>16</td>\n",
       "      <td>163</td>\n",
       "    </tr>\n",
       "  </tbody>\n",
       "</table>\n",
       "</div>"
      ],
      "text/plain": [
       "              jobId companyId         jobType       degree      major  \\\n",
       "0  JOB1362684407687    COMP37             CFO      MASTERS       MATH   \n",
       "1  JOB1362684407688    COMP19             CEO  HIGH_SCHOOL       NONE   \n",
       "2  JOB1362684407689    COMP52  VICE_PRESIDENT     DOCTORAL    PHYSICS   \n",
       "3  JOB1362684407690    COMP38         MANAGER     DOCTORAL  CHEMISTRY   \n",
       "4  JOB1362684407691     COMP7  VICE_PRESIDENT    BACHELORS    PHYSICS   \n",
       "\n",
       "  industry  yearsExperience  milesFromMetropolis  salary  \n",
       "0   HEALTH               10                   83     130  \n",
       "1      WEB                3                   73     101  \n",
       "2   HEALTH               10                   38     137  \n",
       "3     AUTO                8                   17     142  \n",
       "4  FINANCE                8                   16     163  "
      ]
     },
     "execution_count": 14,
     "metadata": {},
     "output_type": "execute_result"
    }
   ],
   "source": [
    "# Get the final data from the new file in the dataframe \"df_final\"\n",
    "train_final=\"C:/Users/abhis/Downloads/Rini/Studying/DSDJ/FirstProject/data/Train_Data.csv\"\n",
    "df_final=pd.read_csv(train_final,header=0)\n",
    "df_final.head()"
   ]
  },
  {
   "cell_type": "markdown",
   "metadata": {},
   "source": [
    "Descriptive Analysis in EDA\n",
    "\n",
    "Describing and summarizing the categorical and numerical data"
   ]
  },
  {
   "cell_type": "code",
   "execution_count": 15,
   "metadata": {},
   "outputs": [
    {
     "name": "stdout",
     "output_type": "stream",
     "text": [
      "SENIOR            125886\n",
      "VICE_PRESIDENT    125235\n",
      "MANAGER           125121\n",
      "CTO               125046\n",
      "JANITOR           124971\n",
      "CEO               124778\n",
      "JUNIOR            124594\n",
      "CFO               124369\n",
      "Name: jobType, dtype: int64\n",
      "WEB          143206\n",
      "AUTO         142943\n",
      "FINANCE      142867\n",
      "EDUCATION    142819\n",
      "OIL          142771\n",
      "HEALTH       142755\n",
      "SERVICE      142639\n",
      "Name: industry, dtype: int64\n",
      "COMP39    16193\n",
      "COMP35    16114\n",
      "COMP59    16066\n",
      "COMP30    16041\n",
      "COMP3     16028\n",
      "          ...  \n",
      "COMP17    15715\n",
      "COMP0     15666\n",
      "COMP2     15641\n",
      "COMP8     15638\n",
      "COMP57    15635\n",
      "Name: companyId, Length: 63, dtype: int64\n",
      "HIGH_SCHOOL    236976\n",
      "NONE           236854\n",
      "BACHELORS      175495\n",
      "DOCTORAL       175364\n",
      "MASTERS        175311\n",
      "Name: degree, dtype: int64\n",
      "NONE           532355\n",
      "CHEMISTRY       58875\n",
      "LITERATURE      58684\n",
      "ENGINEERING     58596\n",
      "BUSINESS        58518\n",
      "PHYSICS         58410\n",
      "COMPSCI         58382\n",
      "BIOLOGY         58379\n",
      "MATH            57801\n",
      "Name: major, dtype: int64\n"
     ]
    }
   ],
   "source": [
    "# Checking the counts in categorical values job type, industry, companyId, degree, major. \n",
    "# this shows how the data is distributed over various categorical variables\n",
    "\n",
    "job_type_counts=data_final[\"jobType\"].value_counts()\n",
    "print(job_type_counts)\n",
    "\n",
    "industry_counts=data_final[\"industry\"].value_counts()\n",
    "print(industry_counts)\n",
    "\n",
    "companyId_counts=data_final[\"companyId\"].value_counts()\n",
    "print(companyId_counts)\n",
    "\n",
    "degree_counts=data_final[\"degree\"].value_counts()\n",
    "print(degree_counts)\n",
    "\n",
    "major_counts=data_final[\"major\"].value_counts()\n",
    "print(major_counts)"
   ]
  },
  {
   "cell_type": "markdown",
   "metadata": {},
   "source": [
    "Using Box Plots to understand the salary distribution by various features.\n",
    "\n",
    "Box plot will provide us the below data :-\n",
    "\n",
    "Median of the data\n",
    "\n",
    "Upper Quartile shows the 75th percentile\n",
    "\n",
    "Lower Quartile shows the 25th percentile \n",
    "\n",
    "Interquartile Range(IQR) represents the data between the Upper and Lower Quartile.\n",
    "\n",
    "Lower and Upper Extremes which are calculated as 1.5 times the IQR above the 75th percentile, and as 1.5 times the IQR below the 25th percentile.\n",
    "\n",
    "It will also help us in identifying the outliers if any."
   ]
  },
  {
   "cell_type": "code",
   "execution_count": 16,
   "metadata": {},
   "outputs": [
    {
     "data": {
      "image/png": "[encoded data removed]",
      "text/plain": [
       "<Figure size 1152x576 with 1 Axes>"
      ]
     },
     "metadata": {
      "needs_background": "light"
     },
     "output_type": "display_data"
    }
   ],
   "source": [
    "# Boxplot for jobType and salary\n",
    "bp_jb=df_final.boxplot(column=['salary'],by=['jobType'], rot=0, fontsize=10, figsize=(16,8))"
   ]
  },
  {
   "cell_type": "code",
   "execution_count": 17,
   "metadata": {},
   "outputs": [
    {
     "data": {
      "image/png": "[encoded data removed]",
      "text/plain": [
       "<Figure size 1152x576 with 1 Axes>"
      ]
     },
     "metadata": {
      "needs_background": "light"
     },
     "output_type": "display_data"
    }
   ],
   "source": [
    "# Boxplot for industry and salary\n",
    "bp_in=df_final.boxplot(column=['salary'],by=['industry'], rot=0, fontsize=10, figsize=(16,8))"
   ]
  },
  {
   "cell_type": "code",
   "execution_count": 18,
   "metadata": {},
   "outputs": [
    {
     "data": {
      "image/png": "[encoded data removed]",
      "text/plain": [
       "<Figure size 1152x576 with 1 Axes>"
      ]
     },
     "metadata": {
      "needs_background": "light"
     },
     "output_type": "display_data"
    }
   ],
   "source": [
    "# Boxplot for Experience and salary\n",
    "bp_exp=df_final.boxplot(column=['salary'],by=['yearsExperience'], rot=0, fontsize=10,figsize=(16,8))"
   ]
  },
  {
   "cell_type": "code",
   "execution_count": 19,
   "metadata": {},
   "outputs": [
    {
     "name": "stdout",
     "output_type": "stream",
     "text": [
      "               salary                                                \\\n",
      "jobType           CEO         CFO         CTO    JANITOR     JUNIOR   \n",
      "companyId                                                             \n",
      "COMP0      144.693320  135.460674  135.174960  70.612705  96.569827   \n",
      "COMP1      144.917731  134.557271  135.584980  70.978899  95.817444   \n",
      "COMP10     146.515657  134.690890  135.153025  70.883848  95.133198   \n",
      "COMP11     144.134702  135.304603  136.367988  71.392911  95.804192   \n",
      "COMP12     146.007000  134.625456  135.704691  70.646912  94.764895   \n",
      "...               ...         ...         ...        ...        ...   \n",
      "COMP61     147.183528  135.274145  135.769309  71.840039  96.243816   \n",
      "COMP62     146.728414  134.937028  135.486680  70.740488  96.560976   \n",
      "COMP7      145.142637  134.875712  134.577020  70.025154  95.476697   \n",
      "COMP8      145.349329  136.195396  135.003447  71.060926  94.951621   \n",
      "COMP9      145.632353  135.139546  136.658286  70.755522  94.803571   \n",
      "\n",
      "                                                  \n",
      "jobType       MANAGER      SENIOR VICE_PRESIDENT  \n",
      "companyId                                         \n",
      "COMP0      115.838305  105.330697     124.635732  \n",
      "COMP1      115.510802  104.245377     125.650939  \n",
      "COMP10     114.698522  106.229459     125.651568  \n",
      "COMP11     114.172959  105.741629     125.935533  \n",
      "COMP12     116.148390  104.990447     125.020070  \n",
      "...               ...         ...            ...  \n",
      "COMP61     115.450409  105.400408     124.993921  \n",
      "COMP62     117.280284  105.392273     124.758483  \n",
      "COMP7      115.290256  105.232394     126.241888  \n",
      "COMP8      114.773489  105.011777     125.141299  \n",
      "COMP9      115.933494  107.143808     125.808065  \n",
      "\n",
      "[63 rows x 8 columns]\n"
     ]
    }
   ],
   "source": [
    "# Grouping the jobType and companyId and extracting the mean salary. \n",
    "# How the average salary varies in each company by job type\n",
    "df_job_cmp=data_final[['jobType','companyId','salary']]\n",
    "df_job_cmp_grp=df_job_cmp.groupby(['jobType','companyId'],as_index=False).mean()\n",
    "df_job_cmp_grp_pvt=df_job_cmp_grp.pivot(index='companyId',columns='jobType')\n",
    "print(df_job_cmp_grp_pvt)"
   ]
  },
  {
   "cell_type": "markdown",
   "metadata": {},
   "source": [
    "ANOVA ( Analysis of Variance)\n",
    "\n",
    "ANOVA can be used to find the correlation between different groups of a categorical variable.\n",
    "\n",
    "This test returns two variables :     \n",
    "           1) F-test score - calculates the ratio of variation between the groups's mean over the variation within each of the                              sample groups\n",
    "           2) p-value      - shows whether the obtained result is statistically significant\n",
    "\n",
    "If F-score is small, the correlation between the target variable and the groupings is weak.\n",
    "If F-score is large, the correlation between the target variable and the groupings is strong.\n",
    "\n",
    "There is a strong correlation between a categorical variable and other variables, if the ANOVA test gives us a large F-test value and a small p-value."
   ]
  },
  {
   "cell_type": "code",
   "execution_count": 20,
   "metadata": {},
   "outputs": [
    {
     "name": "stdout",
     "output_type": "stream",
     "text": [
      "F_onewayResult(statistic=307079.0344412673, pvalue=0.0)\n"
     ]
    }
   ],
   "source": [
    "# Checking the correlation between jobType and salary\n",
    "df_ANOVA=df_final[[\"jobType\",\"salary\"]]\n",
    "grouped_anova=df_ANOVA.groupby([\"jobType\"])\n",
    "anova_res_l=stats.f_oneway(grouped_anova.get_group('JANITOR')['salary'],grouped_anova.get_group('CTO')['salary'])\n",
    "print(anova_res_l)"
   ]
  },
  {
   "cell_type": "code",
   "execution_count": 21,
   "metadata": {},
   "outputs": [
    {
     "name": "stdout",
     "output_type": "stream",
     "text": [
      "F_onewayResult(statistic=64199.66438514302, pvalue=0.0)\n"
     ]
    }
   ],
   "source": [
    "# Checking the correlation between degree and salary\n",
    "df_ANOVA=df_final[[\"degree\",\"salary\"]]\n",
    "grouped_anova=df_ANOVA.groupby([\"degree\"])\n",
    "anova_res_l=stats.f_oneway(grouped_anova.get_group('HIGH_SCHOOL')['salary'],grouped_anova.get_group('MASTERS')['salary'])\n",
    "print(anova_res_l)"
   ]
  },
  {
   "cell_type": "code",
   "execution_count": 22,
   "metadata": {},
   "outputs": [
    {
     "name": "stdout",
     "output_type": "stream",
     "text": [
      "F_onewayResult(statistic=203.34966671974883, pvalue=4.244798582409627e-46)\n"
     ]
    }
   ],
   "source": [
    "# Checking the correlation between major and salary\n",
    "df_ANOVA=df_final[[\"major\",\"salary\"]]\n",
    "grouped_anova=df_ANOVA.groupby([\"major\"])\n",
    "anova_res_l=stats.f_oneway(grouped_anova.get_group('MATH')['salary'],grouped_anova.get_group('PHYSICS')['salary'])\n",
    "print(anova_res_l)"
   ]
  },
  {
   "cell_type": "code",
   "execution_count": 23,
   "metadata": {},
   "outputs": [
    {
     "name": "stdout",
     "output_type": "stream",
     "text": [
      "F_onewayResult(statistic=11627.386949306501, pvalue=0.0)\n"
     ]
    }
   ],
   "source": [
    "# Checking the correlation between industry and salary\n",
    "df_ANOVA=df_final[[\"industry\",\"salary\"]]\n",
    "grouped_anova=df_ANOVA.groupby([\"industry\"])\n",
    "anova_res_l=stats.f_oneway(grouped_anova.get_group('OIL')['salary'],grouped_anova.get_group('HEALTH')['salary'])\n",
    "print(anova_res_l)"
   ]
  },
  {
   "cell_type": "markdown",
   "metadata": {},
   "source": [
    "Using the ANOVA method, we found out that salary is correlated with jobType, industry, degree and major variables. The F-value is large and the p-value close to zero which indicates strong correlation between these groups."
   ]
  },
  {
   "cell_type": "code",
   "execution_count": 24,
   "metadata": {},
   "outputs": [
    {
     "name": "stdout",
     "output_type": "stream",
     "text": [
      "<class 'pandas.core.frame.DataFrame'>\n",
      "RangeIndex: 1000000 entries, 0 to 999999\n",
      "Data columns (total 9 columns):\n",
      " #   Column               Non-Null Count    Dtype \n",
      "---  ------               --------------    ----- \n",
      " 0   jobId                1000000 non-null  object\n",
      " 1   companyId            1000000 non-null  object\n",
      " 2   jobType              1000000 non-null  object\n",
      " 3   degree               1000000 non-null  object\n",
      " 4   major                1000000 non-null  object\n",
      " 5   industry             1000000 non-null  object\n",
      " 6   yearsExperience      1000000 non-null  int64 \n",
      " 7   milesFromMetropolis  1000000 non-null  int64 \n",
      " 8   salary               1000000 non-null  int64 \n",
      "dtypes: int64(3), object(6)\n",
      "memory usage: 68.7+ MB\n"
     ]
    }
   ],
   "source": [
    "# Get the information of all the columns of the final dataset Train_data\n",
    "df_final.info()"
   ]
  },
  {
   "cell_type": "code",
   "execution_count": 25,
   "metadata": {},
   "outputs": [
    {
     "data": {
      "text/html": [
       "<div>\n",
       "<style scoped>\n",
       "    .dataframe tbody tr th:only-of-type {\n",
       "        vertical-align: middle;\n",
       "    }\n",
       "\n",
       "    .dataframe tbody tr th {\n",
       "        vertical-align: top;\n",
       "    }\n",
       "\n",
       "    .dataframe thead th {\n",
       "        text-align: right;\n",
       "    }\n",
       "</style>\n",
       "<table border=\"1\" class=\"dataframe\">\n",
       "  <thead>\n",
       "    <tr style=\"text-align: right;\">\n",
       "      <th></th>\n",
       "      <th>jobType</th>\n",
       "      <th>industry</th>\n",
       "      <th>degree</th>\n",
       "      <th>major</th>\n",
       "    </tr>\n",
       "  </thead>\n",
       "  <tbody>\n",
       "    <tr>\n",
       "      <th>count</th>\n",
       "      <td>1000000</td>\n",
       "      <td>1000000</td>\n",
       "      <td>1000000</td>\n",
       "      <td>1000000</td>\n",
       "    </tr>\n",
       "    <tr>\n",
       "      <th>unique</th>\n",
       "      <td>8</td>\n",
       "      <td>7</td>\n",
       "      <td>5</td>\n",
       "      <td>9</td>\n",
       "    </tr>\n",
       "    <tr>\n",
       "      <th>top</th>\n",
       "      <td>SENIOR</td>\n",
       "      <td>WEB</td>\n",
       "      <td>HIGH_SCHOOL</td>\n",
       "      <td>NONE</td>\n",
       "    </tr>\n",
       "    <tr>\n",
       "      <th>freq</th>\n",
       "      <td>125886</td>\n",
       "      <td>143206</td>\n",
       "      <td>236976</td>\n",
       "      <td>532355</td>\n",
       "    </tr>\n",
       "  </tbody>\n",
       "</table>\n",
       "</div>"
      ],
      "text/plain": [
       "        jobType industry       degree    major\n",
       "count   1000000  1000000      1000000  1000000\n",
       "unique        8        7            5        9\n",
       "top      SENIOR      WEB  HIGH_SCHOOL     NONE\n",
       "freq     125886   143206       236976   532355"
      ]
     },
     "execution_count": 25,
     "metadata": {},
     "output_type": "execute_result"
    }
   ],
   "source": [
    "# Summarize each feature variable(categorical)\n",
    "df_final[['jobType','industry','degree','major']].describe(include='all')"
   ]
  },
  {
   "cell_type": "code",
   "execution_count": 26,
   "metadata": {},
   "outputs": [
    {
     "data": {
      "text/html": [
       "<div>\n",
       "<style scoped>\n",
       "    .dataframe tbody tr th:only-of-type {\n",
       "        vertical-align: middle;\n",
       "    }\n",
       "\n",
       "    .dataframe tbody tr th {\n",
       "        vertical-align: top;\n",
       "    }\n",
       "\n",
       "    .dataframe thead th {\n",
       "        text-align: right;\n",
       "    }\n",
       "</style>\n",
       "<table border=\"1\" class=\"dataframe\">\n",
       "  <thead>\n",
       "    <tr style=\"text-align: right;\">\n",
       "      <th></th>\n",
       "      <th>yearsExperience</th>\n",
       "      <th>milesFromMetropolis</th>\n",
       "    </tr>\n",
       "  </thead>\n",
       "  <tbody>\n",
       "    <tr>\n",
       "      <th>count</th>\n",
       "      <td>1000000.000000</td>\n",
       "      <td>1000000.000000</td>\n",
       "    </tr>\n",
       "    <tr>\n",
       "      <th>mean</th>\n",
       "      <td>11.992386</td>\n",
       "      <td>49.529260</td>\n",
       "    </tr>\n",
       "    <tr>\n",
       "      <th>std</th>\n",
       "      <td>7.212391</td>\n",
       "      <td>28.877733</td>\n",
       "    </tr>\n",
       "    <tr>\n",
       "      <th>min</th>\n",
       "      <td>0.000000</td>\n",
       "      <td>0.000000</td>\n",
       "    </tr>\n",
       "    <tr>\n",
       "      <th>25%</th>\n",
       "      <td>6.000000</td>\n",
       "      <td>25.000000</td>\n",
       "    </tr>\n",
       "    <tr>\n",
       "      <th>50%</th>\n",
       "      <td>12.000000</td>\n",
       "      <td>50.000000</td>\n",
       "    </tr>\n",
       "    <tr>\n",
       "      <th>75%</th>\n",
       "      <td>18.000000</td>\n",
       "      <td>75.000000</td>\n",
       "    </tr>\n",
       "    <tr>\n",
       "      <th>max</th>\n",
       "      <td>24.000000</td>\n",
       "      <td>99.000000</td>\n",
       "    </tr>\n",
       "  </tbody>\n",
       "</table>\n",
       "</div>"
      ],
      "text/plain": [
       "       yearsExperience  milesFromMetropolis\n",
       "count   1000000.000000       1000000.000000\n",
       "mean         11.992386            49.529260\n",
       "std           7.212391            28.877733\n",
       "min           0.000000             0.000000\n",
       "25%           6.000000            25.000000\n",
       "50%          12.000000            50.000000\n",
       "75%          18.000000            75.000000\n",
       "max          24.000000            99.000000"
      ]
     },
     "execution_count": 26,
     "metadata": {},
     "output_type": "execute_result"
    }
   ],
   "source": [
    "# Summarizing the feature variable(numerical)\n",
    "df_final[['yearsExperience','milesFromMetropolis']].describe()"
   ]
  },
  {
   "cell_type": "code",
   "execution_count": 27,
   "metadata": {},
   "outputs": [
    {
     "data": {
      "text/plain": [
       "count    1000000.000000\n",
       "mean         116.062383\n",
       "std           38.717084\n",
       "min           17.000000\n",
       "25%           88.000000\n",
       "50%          114.000000\n",
       "75%          141.000000\n",
       "max          301.000000\n",
       "Name: salary, dtype: float64"
      ]
     },
     "execution_count": 27,
     "metadata": {},
     "output_type": "execute_result"
    }
   ],
   "source": [
    "# Summarizing the target variable (Salary)\n",
    "df_final['salary'].describe()"
   ]
  },
  {
   "cell_type": "code",
   "execution_count": 28,
   "metadata": {},
   "outputs": [
    {
     "name": "stdout",
     "output_type": "stream",
     "text": [
      "                                                          mean\n",
      "companyId industry jobType degree      major                  \n",
      "COMP0     AUTO     CEO     BACHELORS   BIOLOGY      143.166667\n",
      "                                       BUSINESS     164.750000\n",
      "                                       CHEMISTRY    128.250000\n",
      "                                       COMPSCI      142.666667\n",
      "                                       ENGINEERING  156.200000\n",
      "                                       LITERATURE   139.600000\n",
      "                                       MATH         160.000000\n",
      "                                       NONE         134.833333\n",
      "                                       PHYSICS      139.750000\n",
      "                           DOCTORAL    BIOLOGY      123.142857\n",
      "                                       BUSINESS     157.500000\n",
      "                                       CHEMISTRY    132.750000\n",
      "                                       COMPSCI      160.333333\n",
      "                                       ENGINEERING  169.600000\n",
      "                                       LITERATURE   142.600000\n",
      "                                       MATH         162.333333\n",
      "                                       NONE         140.166667\n",
      "                                       PHYSICS      150.800000\n",
      "                           HIGH_SCHOOL NONE         123.661765\n",
      "                           MASTERS     BIOLOGY      155.666667\n",
      "                                       BUSINESS     137.500000\n",
      "                                       CHEMISTRY    156.000000\n",
      "                                       COMPSCI      155.800000\n",
      "                                       ENGINEERING  166.750000\n",
      "                                       LITERATURE   130.600000\n",
      "                                       MATH         139.285714\n",
      "                                       NONE         141.285714\n",
      "                                       PHYSICS      149.250000\n",
      "                           NONE        NONE         125.792453\n"
     ]
    }
   ],
   "source": [
    "# Grouped the salary on the basis of categorical variables\n",
    "grouped_df = df_final.groupby(['companyId','industry','jobType','degree','major'])[\"salary\"].agg(['mean'])\n",
    "print(grouped_df.head(29))"
   ]
  },
  {
   "cell_type": "code",
   "execution_count": 29,
   "metadata": {},
   "outputs": [
    {
     "data": {
      "image/png": "[encoded data removed]",
      "text/plain": [
       "<Figure size 1008x432 with 1 Axes>"
      ]
     },
     "metadata": {
      "needs_background": "light"
     },
     "output_type": "display_data"
    }
   ],
   "source": [
    "# How target variable 'salary' varies on the feature variable 'jobType'\n",
    "grp = df_final.groupby('jobType')['salary'].agg(avg_sal=(np.mean))\n",
    "grp_df = pd.DataFrame(grp)\n",
    "grp_df=grp_df.sort_values(by='avg_sal')\n",
    "ax=grp_df.plot.bar(rot=0, fontsize=10,figsize=(14,6),sort_columns=True, color='brown')\n",
    "ax.set_xlabel(\"Job Type\")\n",
    "ax.set_ylabel(\"Salary\")\n",
    "plt.show()"
   ]
  },
  {
   "cell_type": "markdown",
   "metadata": {},
   "source": [
    "The avgerage salary by job type is lowest for the jobType \"Janitor\" and highest for \"CEO\". Job Designation \"CEO\" has the highest salary."
   ]
  },
  {
   "cell_type": "code",
   "execution_count": 30,
   "metadata": {},
   "outputs": [
    {
     "data": {
      "image/png": "[encoded data removed]",
      "text/plain": [
       "<Figure size 1008x432 with 1 Axes>"
      ]
     },
     "metadata": {
      "needs_background": "light"
     },
     "output_type": "display_data"
    }
   ],
   "source": [
    "# How target variable 'salary' varies on the feature variable 'industry'\n",
    "grp = df_final.groupby('industry')['salary'].agg(avg_sal=(np.mean))\n",
    "grp_df = pd.DataFrame(grp)\n",
    "grp_df=grp_df.sort_values(by='avg_sal')\n",
    "ax=grp_df.plot.bar(rot=0, fontsize=10,figsize=(14,6))\n",
    "ax.set_xlabel(\"Industry\")\n",
    "ax.set_ylabel(\"Salary\")\n",
    "plt.show()"
   ]
  },
  {
   "cell_type": "markdown",
   "metadata": {},
   "source": [
    "From the above bar plot, we can deduce that \"Finance\" and \"Oil\" industry have higher salaries than others."
   ]
  },
  {
   "cell_type": "code",
   "execution_count": 31,
   "metadata": {},
   "outputs": [
    {
     "data": {
      "image/png": "[encoded data removed]",
      "text/plain": [
       "<Figure size 1008x432 with 1 Axes>"
      ]
     },
     "metadata": {
      "needs_background": "light"
     },
     "output_type": "display_data"
    }
   ],
   "source": [
    "# How target variable 'salary' varies on the feature variable 'degree'\n",
    "grp = df_final.groupby('degree')['salary'].agg(avg_sal=(np.mean))\n",
    "grp_df = pd.DataFrame(grp)\n",
    "grp_df=grp_df.sort_values(by='avg_sal')\n",
    "ax=grp_df.plot(rot=0, fontsize=10,figsize=(14,6),marker='o',markerfacecolor='green')\n",
    "ax.set_xlabel(\"Degree\")\n",
    "ax.set_ylabel(\"Salary\")\n",
    "plt.show()"
   ]
  },
  {
   "cell_type": "code",
   "execution_count": 32,
   "metadata": {},
   "outputs": [
    {
     "data": {
      "image/png": "[encoded data removed]",
      "text/plain": [
       "<Figure size 1008x432 with 1 Axes>"
      ]
     },
     "metadata": {
      "needs_background": "light"
     },
     "output_type": "display_data"
    }
   ],
   "source": [
    "# How target variable 'salary' varies on the feature variable 'major'\n",
    "grp = df_final.groupby('major')['salary'].agg(avg_sal=(np.mean))\n",
    "grp_df = pd.DataFrame(grp)\n",
    "grp_df=grp_df.sort_values(by='avg_sal')\n",
    "ax=grp_df.plot(rot=0, fontsize=10,figsize=(14,6),marker='o',markerfacecolor='red')\n",
    "ax.set_xlabel(\"Major\")\n",
    "ax.set_ylabel(\"Salary\")\n",
    "plt.show()"
   ]
  },
  {
   "cell_type": "markdown",
   "metadata": {},
   "source": [
    "After plotting the line graphs, we were able to understand how the salary depends on various feature variables \"major\" and \"degree\".\n",
    "We were also able to understand how salary varies for a jobId having no degree and major. \n",
    "Jobs with educational background of Masters and Doctoral will have better salaries were lower as compared to jobs having No degree or \"High School\"."
   ]
  },
  {
   "cell_type": "code",
   "execution_count": 33,
   "metadata": {},
   "outputs": [
    {
     "data": {
      "image/png": "[encoded data removed]",
      "text/plain": [
       "<Figure size 1008x432 with 1 Axes>"
      ]
     },
     "metadata": {
      "needs_background": "light"
     },
     "output_type": "display_data"
    }
   ],
   "source": [
    "# How target variable 'salary' varies on the feature variable 'Experience'\n",
    "grp = df_final.groupby('yearsExperience',sort=True)['salary'].agg(avg_sal=(np.mean))\n",
    "grp_df = pd.DataFrame(grp)\n",
    "ax=grp_df.plot.bar(rot=0, fontsize=10,figsize=(14,6),color='green')\n",
    "ax.set_xlabel(\"Experience\")\n",
    "ax.set_ylabel(\"Salary\")\n",
    "plt.show()"
   ]
  },
  {
   "cell_type": "markdown",
   "metadata": {},
   "source": [
    "When we plot the average salary by experience, we found out that salary increases linearly with experience."
   ]
  },
  {
   "cell_type": "code",
   "execution_count": 34,
   "metadata": {},
   "outputs": [
    {
     "data": {
      "image/png": "[encoded data removed]",
      "text/plain": [
       "<Figure size 1152x576 with 1 Axes>"
      ]
     },
     "metadata": {
      "needs_background": "light"
     },
     "output_type": "display_data"
    }
   ],
   "source": [
    "# How target variable 'salary' varies on the feature variable 'milesFromMetropolis'\n",
    "grp = df_final.groupby('milesFromMetropolis',sort=True)['salary'].agg(avg_sal=(np.mean))\n",
    "grp_df = pd.DataFrame(grp)\n",
    "ax=grp_df.plot(rot=0, fontsize=10,figsize=(16,8))\n",
    "ax.set_xlabel(\"Miles From Metropolis\")\n",
    "ax.set_ylabel(\"Salary\")\n",
    "plt.show()"
   ]
  },
  {
   "cell_type": "markdown",
   "metadata": {},
   "source": [
    "From the above line graph, we understand that salary decreases linearly if we move away from the metropolitan city which is displayed by the feature variable \"milesFromMetropolis\"."
   ]
  },
  {
   "cell_type": "markdown",
   "metadata": {},
   "source": [
    "Correlation\n",
    "\n",
    "Checking correlation between milesFromMetropolis, yearsExperience and salary\n",
    "Pearson Correlation :\n",
    "\n",
    "Correlation Coefficient\n",
    "\n",
    "Close to +1 >>>>> large positive correlation\n",
    "\n",
    "Close to -1 >>>>> large negative correlation\n",
    "\n",
    "Close to 0  >>>>> No correlation\n",
    "\n",
    "p-value:\n",
    "\n",
    "P-value less than .001 >>>>>  strong certainty\n",
    "\n",
    "P-value between .001 and .05 >>>>> moderate certainty\n",
    "\n",
    "P-value between .05 and.1 >>>>> weak certainty\n",
    "\n",
    "P-value larger than .1 >>>>> no certainty"
   ]
  },
  {
   "cell_type": "code",
   "execution_count": 35,
   "metadata": {},
   "outputs": [
    {
     "data": {
      "text/html": [
       "<div>\n",
       "<style scoped>\n",
       "    .dataframe tbody tr th:only-of-type {\n",
       "        vertical-align: middle;\n",
       "    }\n",
       "\n",
       "    .dataframe tbody tr th {\n",
       "        vertical-align: top;\n",
       "    }\n",
       "\n",
       "    .dataframe thead th {\n",
       "        text-align: right;\n",
       "    }\n",
       "</style>\n",
       "<table border=\"1\" class=\"dataframe\">\n",
       "  <thead>\n",
       "    <tr style=\"text-align: right;\">\n",
       "      <th></th>\n",
       "      <th>yearsExperience</th>\n",
       "      <th>milesFromMetropolis</th>\n",
       "      <th>salary</th>\n",
       "    </tr>\n",
       "  </thead>\n",
       "  <tbody>\n",
       "    <tr>\n",
       "      <th>yearsExperience</th>\n",
       "      <td>1.000000</td>\n",
       "      <td>0.000673</td>\n",
       "      <td>0.375012</td>\n",
       "    </tr>\n",
       "    <tr>\n",
       "      <th>milesFromMetropolis</th>\n",
       "      <td>0.000673</td>\n",
       "      <td>1.000000</td>\n",
       "      <td>-0.297684</td>\n",
       "    </tr>\n",
       "    <tr>\n",
       "      <th>salary</th>\n",
       "      <td>0.375012</td>\n",
       "      <td>-0.297684</td>\n",
       "      <td>1.000000</td>\n",
       "    </tr>\n",
       "  </tbody>\n",
       "</table>\n",
       "</div>"
      ],
      "text/plain": [
       "                     yearsExperience  milesFromMetropolis    salary\n",
       "yearsExperience             1.000000             0.000673  0.375012\n",
       "milesFromMetropolis         0.000673             1.000000 -0.297684\n",
       "salary                      0.375012            -0.297684  1.000000"
      ]
     },
     "execution_count": 35,
     "metadata": {},
     "output_type": "execute_result"
    }
   ],
   "source": [
    "#looking for correlation between features\n",
    "df_final[[\"yearsExperience\",\"milesFromMetropolis\",\"salary\"]].corr(method ='pearson')\n",
    "#pearson_coef, p_value=stats.pearsonr(df_final[\"milesFromMetropolis\"],df_final[\"salary\"])"
   ]
  },
  {
   "cell_type": "code",
   "execution_count": 36,
   "metadata": {},
   "outputs": [
    {
     "data": {
      "image/png": "[encoded data removed]",
      "text/plain": [
       "<Figure size 720x360 with 2 Axes>"
      ]
     },
     "metadata": {
      "needs_background": "light"
     },
     "output_type": "display_data"
    }
   ],
   "source": [
    "plt.rcParams['figure.figsize'] = (10.0, 5.0)\n",
    "sns.heatmap(df_final.corr(), annot = True)\n",
    "plt.show()"
   ]
  },
  {
   "cell_type": "markdown",
   "metadata": {},
   "source": [
    "We found out that we have positive correlation between \"salary\" and \"yearsExperience\". There was negative correlation between \"salary\" and \"milesFromMetropolis\". "
   ]
  },
  {
   "cell_type": "code",
   "execution_count": 37,
   "metadata": {},
   "outputs": [
    {
     "data": {
      "text/html": [
       "<div>\n",
       "<style scoped>\n",
       "    .dataframe tbody tr th:only-of-type {\n",
       "        vertical-align: middle;\n",
       "    }\n",
       "\n",
       "    .dataframe tbody tr th {\n",
       "        vertical-align: top;\n",
       "    }\n",
       "\n",
       "    .dataframe thead th {\n",
       "        text-align: right;\n",
       "    }\n",
       "</style>\n",
       "<table border=\"1\" class=\"dataframe\">\n",
       "  <thead>\n",
       "    <tr style=\"text-align: right;\">\n",
       "      <th></th>\n",
       "      <th>jobId</th>\n",
       "      <th>companyId</th>\n",
       "      <th>jobType</th>\n",
       "      <th>degree</th>\n",
       "      <th>major</th>\n",
       "      <th>industry</th>\n",
       "      <th>yearsExperience</th>\n",
       "      <th>milesFromMetropolis</th>\n",
       "      <th>salary</th>\n",
       "      <th>salary-binned</th>\n",
       "    </tr>\n",
       "  </thead>\n",
       "  <tbody>\n",
       "    <tr>\n",
       "      <th>0</th>\n",
       "      <td>JOB1362684407687</td>\n",
       "      <td>COMP37</td>\n",
       "      <td>CFO</td>\n",
       "      <td>MASTERS</td>\n",
       "      <td>MATH</td>\n",
       "      <td>HEALTH</td>\n",
       "      <td>10</td>\n",
       "      <td>83</td>\n",
       "      <td>130</td>\n",
       "      <td>Medium</td>\n",
       "    </tr>\n",
       "    <tr>\n",
       "      <th>1</th>\n",
       "      <td>JOB1362684407688</td>\n",
       "      <td>COMP19</td>\n",
       "      <td>CEO</td>\n",
       "      <td>HIGH_SCHOOL</td>\n",
       "      <td>NONE</td>\n",
       "      <td>WEB</td>\n",
       "      <td>3</td>\n",
       "      <td>73</td>\n",
       "      <td>101</td>\n",
       "      <td>Low</td>\n",
       "    </tr>\n",
       "    <tr>\n",
       "      <th>2</th>\n",
       "      <td>JOB1362684407689</td>\n",
       "      <td>COMP52</td>\n",
       "      <td>VICE_PRESIDENT</td>\n",
       "      <td>DOCTORAL</td>\n",
       "      <td>PHYSICS</td>\n",
       "      <td>HEALTH</td>\n",
       "      <td>10</td>\n",
       "      <td>38</td>\n",
       "      <td>137</td>\n",
       "      <td>Medium</td>\n",
       "    </tr>\n",
       "    <tr>\n",
       "      <th>3</th>\n",
       "      <td>JOB1362684407690</td>\n",
       "      <td>COMP38</td>\n",
       "      <td>MANAGER</td>\n",
       "      <td>DOCTORAL</td>\n",
       "      <td>CHEMISTRY</td>\n",
       "      <td>AUTO</td>\n",
       "      <td>8</td>\n",
       "      <td>17</td>\n",
       "      <td>142</td>\n",
       "      <td>Medium</td>\n",
       "    </tr>\n",
       "    <tr>\n",
       "      <th>4</th>\n",
       "      <td>JOB1362684407691</td>\n",
       "      <td>COMP7</td>\n",
       "      <td>VICE_PRESIDENT</td>\n",
       "      <td>BACHELORS</td>\n",
       "      <td>PHYSICS</td>\n",
       "      <td>FINANCE</td>\n",
       "      <td>8</td>\n",
       "      <td>16</td>\n",
       "      <td>163</td>\n",
       "      <td>Medium</td>\n",
       "    </tr>\n",
       "  </tbody>\n",
       "</table>\n",
       "</div>"
      ],
      "text/plain": [
       "              jobId companyId         jobType       degree      major  \\\n",
       "0  JOB1362684407687    COMP37             CFO      MASTERS       MATH   \n",
       "1  JOB1362684407688    COMP19             CEO  HIGH_SCHOOL       NONE   \n",
       "2  JOB1362684407689    COMP52  VICE_PRESIDENT     DOCTORAL    PHYSICS   \n",
       "3  JOB1362684407690    COMP38         MANAGER     DOCTORAL  CHEMISTRY   \n",
       "4  JOB1362684407691     COMP7  VICE_PRESIDENT    BACHELORS    PHYSICS   \n",
       "\n",
       "  industry  yearsExperience  milesFromMetropolis  salary salary-binned  \n",
       "0   HEALTH               10                   83     130        Medium  \n",
       "1      WEB                3                   73     101           Low  \n",
       "2   HEALTH               10                   38     137        Medium  \n",
       "3     AUTO                8                   17     142        Medium  \n",
       "4  FINANCE                8                   16     163        Medium  "
      ]
     },
     "execution_count": 37,
     "metadata": {},
     "output_type": "execute_result"
    }
   ],
   "source": [
    "bins_sal=np.linspace(min(df_final[\"salary\"]),max(df_final[\"salary\"]),4)\n",
    "group_names=[\"Low\",\"Medium\",\"High\"]\n",
    "df_final[\"salary-binned\"]=pd.cut(df_final[\"salary\"],bins_sal,labels=group_names,include_lowest=True)\n",
    "df_final.head()"
   ]
  },
  {
   "cell_type": "code",
   "execution_count": 38,
   "metadata": {},
   "outputs": [
    {
     "data": {
      "image/png": "[encoded data removed]",
      "text/plain": [
       "<Figure size 720x360 with 1 Axes>"
      ]
     },
     "metadata": {
      "needs_background": "light"
     },
     "output_type": "display_data"
    }
   ],
   "source": [
    "# Salary Distribution\n",
    "from scipy.stats import norm\n",
    "# Draw histogram\n",
    "n,bins,sal_dist=plt.hist(df_final[\"salary\"],bins=50,density=True)\n",
    "\n",
    "#set x/y labels and plot title\n",
    "(mu, sigma) = norm.fit(df_final[\"salary\"])\n",
    "#print(sigma)\n",
    "y = norm.pdf(bins, mu, sigma)\n",
    "plt.plot(bins, y, 'g-')\n",
    "plt.xlabel(\"Salary\")\n",
    "plt.ylabel(\"count\")\n",
    "plt.title(\"Salary Distribution\")\n",
    "plt.show()"
   ]
  },
  {
   "cell_type": "code",
   "execution_count": 39,
   "metadata": {},
   "outputs": [
    {
     "data": {
      "text/html": [
       "<div>\n",
       "<style scoped>\n",
       "    .dataframe tbody tr th:only-of-type {\n",
       "        vertical-align: middle;\n",
       "    }\n",
       "\n",
       "    .dataframe tbody tr th {\n",
       "        vertical-align: top;\n",
       "    }\n",
       "\n",
       "    .dataframe thead th {\n",
       "        text-align: right;\n",
       "    }\n",
       "</style>\n",
       "<table border=\"1\" class=\"dataframe\">\n",
       "  <thead>\n",
       "    <tr style=\"text-align: right;\">\n",
       "      <th></th>\n",
       "      <th>jobId</th>\n",
       "      <th>companyId</th>\n",
       "      <th>jobType</th>\n",
       "      <th>degree</th>\n",
       "      <th>major</th>\n",
       "      <th>industry</th>\n",
       "      <th>yearsExperience</th>\n",
       "      <th>milesFromMetropolis</th>\n",
       "      <th>salary</th>\n",
       "      <th>salary-binned</th>\n",
       "    </tr>\n",
       "  </thead>\n",
       "  <tbody>\n",
       "    <tr>\n",
       "      <th>0</th>\n",
       "      <td>JOB1362684407687</td>\n",
       "      <td>COMP37</td>\n",
       "      <td>CFO</td>\n",
       "      <td>MASTERS</td>\n",
       "      <td>MATH</td>\n",
       "      <td>HEALTH</td>\n",
       "      <td>10</td>\n",
       "      <td>83</td>\n",
       "      <td>130</td>\n",
       "      <td>Medium</td>\n",
       "    </tr>\n",
       "    <tr>\n",
       "      <th>1</th>\n",
       "      <td>JOB1362684407688</td>\n",
       "      <td>COMP19</td>\n",
       "      <td>CEO</td>\n",
       "      <td>HIGH_SCHOOL</td>\n",
       "      <td>NONE</td>\n",
       "      <td>WEB</td>\n",
       "      <td>3</td>\n",
       "      <td>73</td>\n",
       "      <td>101</td>\n",
       "      <td>Low</td>\n",
       "    </tr>\n",
       "    <tr>\n",
       "      <th>2</th>\n",
       "      <td>JOB1362684407689</td>\n",
       "      <td>COMP52</td>\n",
       "      <td>VICE_PRESIDENT</td>\n",
       "      <td>DOCTORAL</td>\n",
       "      <td>PHYSICS</td>\n",
       "      <td>HEALTH</td>\n",
       "      <td>10</td>\n",
       "      <td>38</td>\n",
       "      <td>137</td>\n",
       "      <td>Medium</td>\n",
       "    </tr>\n",
       "    <tr>\n",
       "      <th>3</th>\n",
       "      <td>JOB1362684407690</td>\n",
       "      <td>COMP38</td>\n",
       "      <td>MANAGER</td>\n",
       "      <td>DOCTORAL</td>\n",
       "      <td>CHEMISTRY</td>\n",
       "      <td>AUTO</td>\n",
       "      <td>8</td>\n",
       "      <td>17</td>\n",
       "      <td>142</td>\n",
       "      <td>Medium</td>\n",
       "    </tr>\n",
       "    <tr>\n",
       "      <th>4</th>\n",
       "      <td>JOB1362684407691</td>\n",
       "      <td>COMP7</td>\n",
       "      <td>VICE_PRESIDENT</td>\n",
       "      <td>BACHELORS</td>\n",
       "      <td>PHYSICS</td>\n",
       "      <td>FINANCE</td>\n",
       "      <td>8</td>\n",
       "      <td>16</td>\n",
       "      <td>163</td>\n",
       "      <td>Medium</td>\n",
       "    </tr>\n",
       "  </tbody>\n",
       "</table>\n",
       "</div>"
      ],
      "text/plain": [
       "              jobId companyId         jobType       degree      major  \\\n",
       "0  JOB1362684407687    COMP37             CFO      MASTERS       MATH   \n",
       "1  JOB1362684407688    COMP19             CEO  HIGH_SCHOOL       NONE   \n",
       "2  JOB1362684407689    COMP52  VICE_PRESIDENT     DOCTORAL    PHYSICS   \n",
       "3  JOB1362684407690    COMP38         MANAGER     DOCTORAL  CHEMISTRY   \n",
       "4  JOB1362684407691     COMP7  VICE_PRESIDENT    BACHELORS    PHYSICS   \n",
       "\n",
       "  industry  yearsExperience  milesFromMetropolis  salary salary-binned  \n",
       "0   HEALTH               10                   83     130        Medium  \n",
       "1      WEB                3                   73     101           Low  \n",
       "2   HEALTH               10                   38     137        Medium  \n",
       "3     AUTO                8                   17     142        Medium  \n",
       "4  FINANCE                8                   16     163        Medium  "
      ]
     },
     "execution_count": 39,
     "metadata": {},
     "output_type": "execute_result"
    }
   ],
   "source": [
    "df_corr=df_final.copy(deep=True)\n",
    "df_corr.head()"
   ]
  },
  {
   "cell_type": "code",
   "execution_count": 40,
   "metadata": {},
   "outputs": [],
   "source": [
    "df_corr[['companyId','jobType','degree','major','industry']]=df_final[['companyId','jobType','degree','major','industry']].astype('category')"
   ]
  },
  {
   "cell_type": "code",
   "execution_count": 41,
   "metadata": {},
   "outputs": [
    {
     "data": {
      "text/html": [
       "<div>\n",
       "<style scoped>\n",
       "    .dataframe tbody tr th:only-of-type {\n",
       "        vertical-align: middle;\n",
       "    }\n",
       "\n",
       "    .dataframe tbody tr th {\n",
       "        vertical-align: top;\n",
       "    }\n",
       "\n",
       "    .dataframe thead th {\n",
       "        text-align: right;\n",
       "    }\n",
       "</style>\n",
       "<table border=\"1\" class=\"dataframe\">\n",
       "  <thead>\n",
       "    <tr style=\"text-align: right;\">\n",
       "      <th></th>\n",
       "      <th>jobId</th>\n",
       "      <th>companyId</th>\n",
       "      <th>jobType</th>\n",
       "      <th>degree</th>\n",
       "      <th>major</th>\n",
       "      <th>industry</th>\n",
       "      <th>yearsExperience</th>\n",
       "      <th>milesFromMetropolis</th>\n",
       "      <th>salary</th>\n",
       "      <th>salary-binned</th>\n",
       "    </tr>\n",
       "  </thead>\n",
       "  <tbody>\n",
       "    <tr>\n",
       "      <th>0</th>\n",
       "      <td>JOB1362684407687</td>\n",
       "      <td>COMP37</td>\n",
       "      <td>CFO</td>\n",
       "      <td>MASTERS</td>\n",
       "      <td>MATH</td>\n",
       "      <td>HEALTH</td>\n",
       "      <td>10</td>\n",
       "      <td>83</td>\n",
       "      <td>130</td>\n",
       "      <td>Medium</td>\n",
       "    </tr>\n",
       "    <tr>\n",
       "      <th>1</th>\n",
       "      <td>JOB1362684407688</td>\n",
       "      <td>COMP19</td>\n",
       "      <td>CEO</td>\n",
       "      <td>HIGH_SCHOOL</td>\n",
       "      <td>NONE</td>\n",
       "      <td>WEB</td>\n",
       "      <td>3</td>\n",
       "      <td>73</td>\n",
       "      <td>101</td>\n",
       "      <td>Low</td>\n",
       "    </tr>\n",
       "    <tr>\n",
       "      <th>2</th>\n",
       "      <td>JOB1362684407689</td>\n",
       "      <td>COMP52</td>\n",
       "      <td>VICE_PRESIDENT</td>\n",
       "      <td>DOCTORAL</td>\n",
       "      <td>PHYSICS</td>\n",
       "      <td>HEALTH</td>\n",
       "      <td>10</td>\n",
       "      <td>38</td>\n",
       "      <td>137</td>\n",
       "      <td>Medium</td>\n",
       "    </tr>\n",
       "    <tr>\n",
       "      <th>3</th>\n",
       "      <td>JOB1362684407690</td>\n",
       "      <td>COMP38</td>\n",
       "      <td>MANAGER</td>\n",
       "      <td>DOCTORAL</td>\n",
       "      <td>CHEMISTRY</td>\n",
       "      <td>AUTO</td>\n",
       "      <td>8</td>\n",
       "      <td>17</td>\n",
       "      <td>142</td>\n",
       "      <td>Medium</td>\n",
       "    </tr>\n",
       "    <tr>\n",
       "      <th>4</th>\n",
       "      <td>JOB1362684407691</td>\n",
       "      <td>COMP7</td>\n",
       "      <td>VICE_PRESIDENT</td>\n",
       "      <td>BACHELORS</td>\n",
       "      <td>PHYSICS</td>\n",
       "      <td>FINANCE</td>\n",
       "      <td>8</td>\n",
       "      <td>16</td>\n",
       "      <td>163</td>\n",
       "      <td>Medium</td>\n",
       "    </tr>\n",
       "  </tbody>\n",
       "</table>\n",
       "</div>"
      ],
      "text/plain": [
       "              jobId companyId         jobType       degree      major  \\\n",
       "0  JOB1362684407687    COMP37             CFO      MASTERS       MATH   \n",
       "1  JOB1362684407688    COMP19             CEO  HIGH_SCHOOL       NONE   \n",
       "2  JOB1362684407689    COMP52  VICE_PRESIDENT     DOCTORAL    PHYSICS   \n",
       "3  JOB1362684407690    COMP38         MANAGER     DOCTORAL  CHEMISTRY   \n",
       "4  JOB1362684407691     COMP7  VICE_PRESIDENT    BACHELORS    PHYSICS   \n",
       "\n",
       "  industry  yearsExperience  milesFromMetropolis  salary salary-binned  \n",
       "0   HEALTH               10                   83     130        Medium  \n",
       "1      WEB                3                   73     101           Low  \n",
       "2   HEALTH               10                   38     137        Medium  \n",
       "3     AUTO                8                   17     142        Medium  \n",
       "4  FINANCE                8                   16     163        Medium  "
      ]
     },
     "execution_count": 41,
     "metadata": {},
     "output_type": "execute_result"
    }
   ],
   "source": [
    "df_corr.head()"
   ]
  },
  {
   "cell_type": "code",
   "execution_count": 42,
   "metadata": {},
   "outputs": [],
   "source": [
    "df_col_corr=['companyId','jobType','degree','major','industry']\n",
    "def cat_num(colm):\n",
    "    for i in colm:\n",
    "        df_corr[i]=df_corr.groupby(i).transform('mean')['salary']"
   ]
  },
  {
   "cell_type": "code",
   "execution_count": 43,
   "metadata": {},
   "outputs": [],
   "source": [
    "cat_num(df_col_corr)"
   ]
  },
  {
   "cell_type": "code",
   "execution_count": 44,
   "metadata": {},
   "outputs": [
    {
     "data": {
      "text/html": [
       "<div>\n",
       "<style scoped>\n",
       "    .dataframe tbody tr th:only-of-type {\n",
       "        vertical-align: middle;\n",
       "    }\n",
       "\n",
       "    .dataframe tbody tr th {\n",
       "        vertical-align: top;\n",
       "    }\n",
       "\n",
       "    .dataframe thead th {\n",
       "        text-align: right;\n",
       "    }\n",
       "</style>\n",
       "<table border=\"1\" class=\"dataframe\">\n",
       "  <thead>\n",
       "    <tr style=\"text-align: right;\">\n",
       "      <th></th>\n",
       "      <th>jobId</th>\n",
       "      <th>companyId</th>\n",
       "      <th>jobType</th>\n",
       "      <th>degree</th>\n",
       "      <th>major</th>\n",
       "      <th>industry</th>\n",
       "      <th>yearsExperience</th>\n",
       "      <th>milesFromMetropolis</th>\n",
       "      <th>salary</th>\n",
       "      <th>salary-binned</th>\n",
       "    </tr>\n",
       "  </thead>\n",
       "  <tbody>\n",
       "    <tr>\n",
       "      <th>0</th>\n",
       "      <td>JOB1362684407687</td>\n",
       "      <td>115.345049</td>\n",
       "      <td>135.458547</td>\n",
       "      <td>130.505616</td>\n",
       "      <td>133.321379</td>\n",
       "      <td>115.735540</td>\n",
       "      <td>10</td>\n",
       "      <td>83</td>\n",
       "      <td>130</td>\n",
       "      <td>Medium</td>\n",
       "    </tr>\n",
       "    <tr>\n",
       "      <th>1</th>\n",
       "      <td>JOB1362684407688</td>\n",
       "      <td>115.756548</td>\n",
       "      <td>145.311425</td>\n",
       "      <td>101.921224</td>\n",
       "      <td>102.583911</td>\n",
       "      <td>121.645385</td>\n",
       "      <td>3</td>\n",
       "      <td>73</td>\n",
       "      <td>101</td>\n",
       "      <td>Low</td>\n",
       "    </tr>\n",
       "    <tr>\n",
       "      <th>2</th>\n",
       "      <td>JOB1362684407689</td>\n",
       "      <td>116.224249</td>\n",
       "      <td>125.368627</td>\n",
       "      <td>135.490631</td>\n",
       "      <td>130.372436</td>\n",
       "      <td>115.735540</td>\n",
       "      <td>10</td>\n",
       "      <td>38</td>\n",
       "      <td>137</td>\n",
       "      <td>Medium</td>\n",
       "    </tr>\n",
       "    <tr>\n",
       "      <th>3</th>\n",
       "      <td>JOB1362684407690</td>\n",
       "      <td>116.199380</td>\n",
       "      <td>115.368515</td>\n",
       "      <td>135.490631</td>\n",
       "      <td>129.072085</td>\n",
       "      <td>109.435299</td>\n",
       "      <td>8</td>\n",
       "      <td>17</td>\n",
       "      <td>142</td>\n",
       "      <td>Medium</td>\n",
       "    </tr>\n",
       "    <tr>\n",
       "      <th>4</th>\n",
       "      <td>JOB1362684407691</td>\n",
       "      <td>115.888501</td>\n",
       "      <td>125.368627</td>\n",
       "      <td>125.454663</td>\n",
       "      <td>130.372436</td>\n",
       "      <td>130.747548</td>\n",
       "      <td>8</td>\n",
       "      <td>16</td>\n",
       "      <td>163</td>\n",
       "      <td>Medium</td>\n",
       "    </tr>\n",
       "  </tbody>\n",
       "</table>\n",
       "</div>"
      ],
      "text/plain": [
       "              jobId   companyId     jobType      degree       major  \\\n",
       "0  JOB1362684407687  115.345049  135.458547  130.505616  133.321379   \n",
       "1  JOB1362684407688  115.756548  145.311425  101.921224  102.583911   \n",
       "2  JOB1362684407689  116.224249  125.368627  135.490631  130.372436   \n",
       "3  JOB1362684407690  116.199380  115.368515  135.490631  129.072085   \n",
       "4  JOB1362684407691  115.888501  125.368627  125.454663  130.372436   \n",
       "\n",
       "     industry  yearsExperience  milesFromMetropolis  salary salary-binned  \n",
       "0  115.735540               10                   83     130        Medium  \n",
       "1  121.645385                3                   73     101           Low  \n",
       "2  115.735540               10                   38     137        Medium  \n",
       "3  109.435299                8                   17     142        Medium  \n",
       "4  130.747548                8                   16     163        Medium  "
      ]
     },
     "execution_count": 44,
     "metadata": {},
     "output_type": "execute_result"
    }
   ],
   "source": [
    "df_corr.head()"
   ]
  },
  {
   "cell_type": "code",
   "execution_count": 45,
   "metadata": {},
   "outputs": [
    {
     "data": {
      "image/png": "[encoded data removed]",
      "text/plain": [
       "<Figure size 720x360 with 2 Axes>"
      ]
     },
     "metadata": {
      "needs_background": "light"
     },
     "output_type": "display_data"
    }
   ],
   "source": [
    "plt.rcParams['figure.figsize'] = (10.0, 5.0)\n",
    "sns.heatmap(df_corr.corr(), annot = True)\n",
    "plt.show()"
   ]
  },
  {
   "cell_type": "markdown",
   "metadata": {},
   "source": [
    "From the heatmap, we can see the correlation between all the feature variables and target variable."
   ]
  },
  {
   "cell_type": "markdown",
   "metadata": {},
   "source": [
    "### ---- 5 Establish a baseline ----"
   ]
  },
  {
   "cell_type": "code",
   "execution_count": 46,
   "metadata": {},
   "outputs": [],
   "source": [
    "# Predicting the values using avg salary for each Job Type\n",
    "df_salMod=df_final.copy(deep=True)\n",
    "avg_sal_jT = pd.DataFrame(df_salMod.groupby('jobType')['salary'].mean())\n",
    "predicted_jT = df_salMod.merge(avg_sal_jT,on='jobType',how='inner')"
   ]
  },
  {
   "cell_type": "code",
   "execution_count": 47,
   "metadata": {},
   "outputs": [
    {
     "name": "stdout",
     "output_type": "stream",
     "text": [
      "963.92\n"
     ]
    }
   ],
   "source": [
    "# Calculating the Mean squared error based on Job Type\n",
    "mean_sq_err=np.square(np.subtract(predicted_jT['salary_x'],predicted_jT['salary_y'])).mean()\n",
    "mean_sq_err= round(mean_sq_err,3)\n",
    "print (mean_sq_err)"
   ]
  },
  {
   "cell_type": "code",
   "execution_count": 48,
   "metadata": {},
   "outputs": [],
   "source": [
    "# Predicting the values using avg salary for each Industry\n",
    "avg_sal_ind = pd.DataFrame(df_salMod.groupby('industry')['salary'].mean())\n",
    "predicted_ind = df_salMod.merge(avg_sal_ind,on='industry',how='inner')"
   ]
  },
  {
   "cell_type": "code",
   "execution_count": 49,
   "metadata": {},
   "outputs": [
    {
     "name": "stdout",
     "output_type": "stream",
     "text": [
      "1367.119\n"
     ]
    }
   ],
   "source": [
    "# Calculating the Mean squared error based on Industry\n",
    "mean_sq_err=np.square(np.subtract(predicted_ind['salary_x'],predicted_ind['salary_y'])).mean()\n",
    "mean_sq_err= round(mean_sq_err,3)\n",
    "print(mean_sq_err)"
   ]
  },
  {
   "cell_type": "markdown",
   "metadata": {},
   "source": [
    "### ---- 6 Hypothesize solution ----"
   ]
  },
  {
   "cell_type": "markdown",
   "metadata": {},
   "source": [
    "The three models I would like to use to train and test the data are :-\n",
    "\n",
    "     1) Multiple Linear Regression - refers to the use of multiple independent variables to make a prediction\n",
    "     2) Random Forest\n",
    "     3) Gradient Boosting"
   ]
  },
  {
   "cell_type": "markdown",
   "metadata": {},
   "source": [
    "For making"
   ]
  },
  {
   "cell_type": "markdown",
   "metadata": {},
   "source": [
    "## Part 3 - DEVELOP"
   ]
  },
  {
   "cell_type": "markdown",
   "metadata": {},
   "source": [
    "You will cycle through creating features, tuning models, and training/validing models (steps 7-9) until you've reached your efficacy goal\n",
    "\n",
    "#### Your metric will be MSE and your goal is:\n",
    " - <360 for entry-level data science roles\n",
    " - <320 for senior data science roles"
   ]
  },
  {
   "cell_type": "markdown",
   "metadata": {},
   "source": [
    "### ---- 7 Engineer features  ----"
   ]
  },
  {
   "cell_type": "code",
   "execution_count": 50,
   "metadata": {},
   "outputs": [],
   "source": [
    "df_onHtEnc=df_final.copy(deep=True)"
   ]
  },
  {
   "cell_type": "code",
   "execution_count": 51,
   "metadata": {},
   "outputs": [
    {
     "data": {
      "text/html": [
       "<div>\n",
       "<style scoped>\n",
       "    .dataframe tbody tr th:only-of-type {\n",
       "        vertical-align: middle;\n",
       "    }\n",
       "\n",
       "    .dataframe tbody tr th {\n",
       "        vertical-align: top;\n",
       "    }\n",
       "\n",
       "    .dataframe thead th {\n",
       "        text-align: right;\n",
       "    }\n",
       "</style>\n",
       "<table border=\"1\" class=\"dataframe\">\n",
       "  <thead>\n",
       "    <tr style=\"text-align: right;\">\n",
       "      <th></th>\n",
       "      <th>jobId</th>\n",
       "      <th>companyId</th>\n",
       "      <th>jobType</th>\n",
       "      <th>degree</th>\n",
       "      <th>major</th>\n",
       "      <th>industry</th>\n",
       "      <th>yearsExperience</th>\n",
       "      <th>milesFromMetropolis</th>\n",
       "      <th>salary</th>\n",
       "      <th>salary-binned</th>\n",
       "    </tr>\n",
       "  </thead>\n",
       "  <tbody>\n",
       "    <tr>\n",
       "      <th>0</th>\n",
       "      <td>JOB1362684407687</td>\n",
       "      <td>COMP37</td>\n",
       "      <td>CFO</td>\n",
       "      <td>MASTERS</td>\n",
       "      <td>MATH</td>\n",
       "      <td>HEALTH</td>\n",
       "      <td>10</td>\n",
       "      <td>83</td>\n",
       "      <td>130</td>\n",
       "      <td>Medium</td>\n",
       "    </tr>\n",
       "    <tr>\n",
       "      <th>1</th>\n",
       "      <td>JOB1362684407688</td>\n",
       "      <td>COMP19</td>\n",
       "      <td>CEO</td>\n",
       "      <td>HIGH_SCHOOL</td>\n",
       "      <td>NONE</td>\n",
       "      <td>WEB</td>\n",
       "      <td>3</td>\n",
       "      <td>73</td>\n",
       "      <td>101</td>\n",
       "      <td>Low</td>\n",
       "    </tr>\n",
       "    <tr>\n",
       "      <th>2</th>\n",
       "      <td>JOB1362684407689</td>\n",
       "      <td>COMP52</td>\n",
       "      <td>VICE_PRESIDENT</td>\n",
       "      <td>DOCTORAL</td>\n",
       "      <td>PHYSICS</td>\n",
       "      <td>HEALTH</td>\n",
       "      <td>10</td>\n",
       "      <td>38</td>\n",
       "      <td>137</td>\n",
       "      <td>Medium</td>\n",
       "    </tr>\n",
       "    <tr>\n",
       "      <th>3</th>\n",
       "      <td>JOB1362684407690</td>\n",
       "      <td>COMP38</td>\n",
       "      <td>MANAGER</td>\n",
       "      <td>DOCTORAL</td>\n",
       "      <td>CHEMISTRY</td>\n",
       "      <td>AUTO</td>\n",
       "      <td>8</td>\n",
       "      <td>17</td>\n",
       "      <td>142</td>\n",
       "      <td>Medium</td>\n",
       "    </tr>\n",
       "    <tr>\n",
       "      <th>4</th>\n",
       "      <td>JOB1362684407691</td>\n",
       "      <td>COMP7</td>\n",
       "      <td>VICE_PRESIDENT</td>\n",
       "      <td>BACHELORS</td>\n",
       "      <td>PHYSICS</td>\n",
       "      <td>FINANCE</td>\n",
       "      <td>8</td>\n",
       "      <td>16</td>\n",
       "      <td>163</td>\n",
       "      <td>Medium</td>\n",
       "    </tr>\n",
       "  </tbody>\n",
       "</table>\n",
       "</div>"
      ],
      "text/plain": [
       "              jobId companyId         jobType       degree      major  \\\n",
       "0  JOB1362684407687    COMP37             CFO      MASTERS       MATH   \n",
       "1  JOB1362684407688    COMP19             CEO  HIGH_SCHOOL       NONE   \n",
       "2  JOB1362684407689    COMP52  VICE_PRESIDENT     DOCTORAL    PHYSICS   \n",
       "3  JOB1362684407690    COMP38         MANAGER     DOCTORAL  CHEMISTRY   \n",
       "4  JOB1362684407691     COMP7  VICE_PRESIDENT    BACHELORS    PHYSICS   \n",
       "\n",
       "  industry  yearsExperience  milesFromMetropolis  salary salary-binned  \n",
       "0   HEALTH               10                   83     130        Medium  \n",
       "1      WEB                3                   73     101           Low  \n",
       "2   HEALTH               10                   38     137        Medium  \n",
       "3     AUTO                8                   17     142        Medium  \n",
       "4  FINANCE                8                   16     163        Medium  "
      ]
     },
     "execution_count": 51,
     "metadata": {},
     "output_type": "execute_result"
    }
   ],
   "source": [
    "df_onHtEnc.head()"
   ]
  },
  {
   "cell_type": "code",
   "execution_count": 52,
   "metadata": {},
   "outputs": [
    {
     "data": {
      "text/html": [
       "<div>\n",
       "<style scoped>\n",
       "    .dataframe tbody tr th:only-of-type {\n",
       "        vertical-align: middle;\n",
       "    }\n",
       "\n",
       "    .dataframe tbody tr th {\n",
       "        vertical-align: top;\n",
       "    }\n",
       "\n",
       "    .dataframe thead th {\n",
       "        text-align: right;\n",
       "    }\n",
       "</style>\n",
       "<table border=\"1\" class=\"dataframe\">\n",
       "  <thead>\n",
       "    <tr style=\"text-align: right;\">\n",
       "      <th></th>\n",
       "      <th>jobId</th>\n",
       "      <th>companyId</th>\n",
       "      <th>yearsExperience</th>\n",
       "      <th>milesFromMetropolis</th>\n",
       "      <th>salary</th>\n",
       "      <th>salary-binned</th>\n",
       "      <th>jobType_CFO</th>\n",
       "      <th>jobType_CTO</th>\n",
       "      <th>jobType_JANITOR</th>\n",
       "      <th>jobType_JUNIOR</th>\n",
       "      <th>...</th>\n",
       "      <th>degree_MASTERS</th>\n",
       "      <th>degree_NONE</th>\n",
       "      <th>major_BUSINESS</th>\n",
       "      <th>major_CHEMISTRY</th>\n",
       "      <th>major_COMPSCI</th>\n",
       "      <th>major_ENGINEERING</th>\n",
       "      <th>major_LITERATURE</th>\n",
       "      <th>major_MATH</th>\n",
       "      <th>major_NONE</th>\n",
       "      <th>major_PHYSICS</th>\n",
       "    </tr>\n",
       "  </thead>\n",
       "  <tbody>\n",
       "    <tr>\n",
       "      <th>0</th>\n",
       "      <td>JOB1362684407687</td>\n",
       "      <td>COMP37</td>\n",
       "      <td>10</td>\n",
       "      <td>83</td>\n",
       "      <td>130</td>\n",
       "      <td>Medium</td>\n",
       "      <td>1</td>\n",
       "      <td>0</td>\n",
       "      <td>0</td>\n",
       "      <td>0</td>\n",
       "      <td>...</td>\n",
       "      <td>1</td>\n",
       "      <td>0</td>\n",
       "      <td>0</td>\n",
       "      <td>0</td>\n",
       "      <td>0</td>\n",
       "      <td>0</td>\n",
       "      <td>0</td>\n",
       "      <td>1</td>\n",
       "      <td>0</td>\n",
       "      <td>0</td>\n",
       "    </tr>\n",
       "    <tr>\n",
       "      <th>1</th>\n",
       "      <td>JOB1362684407688</td>\n",
       "      <td>COMP19</td>\n",
       "      <td>3</td>\n",
       "      <td>73</td>\n",
       "      <td>101</td>\n",
       "      <td>Low</td>\n",
       "      <td>0</td>\n",
       "      <td>0</td>\n",
       "      <td>0</td>\n",
       "      <td>0</td>\n",
       "      <td>...</td>\n",
       "      <td>0</td>\n",
       "      <td>0</td>\n",
       "      <td>0</td>\n",
       "      <td>0</td>\n",
       "      <td>0</td>\n",
       "      <td>0</td>\n",
       "      <td>0</td>\n",
       "      <td>0</td>\n",
       "      <td>1</td>\n",
       "      <td>0</td>\n",
       "    </tr>\n",
       "    <tr>\n",
       "      <th>2</th>\n",
       "      <td>JOB1362684407689</td>\n",
       "      <td>COMP52</td>\n",
       "      <td>10</td>\n",
       "      <td>38</td>\n",
       "      <td>137</td>\n",
       "      <td>Medium</td>\n",
       "      <td>0</td>\n",
       "      <td>0</td>\n",
       "      <td>0</td>\n",
       "      <td>0</td>\n",
       "      <td>...</td>\n",
       "      <td>0</td>\n",
       "      <td>0</td>\n",
       "      <td>0</td>\n",
       "      <td>0</td>\n",
       "      <td>0</td>\n",
       "      <td>0</td>\n",
       "      <td>0</td>\n",
       "      <td>0</td>\n",
       "      <td>0</td>\n",
       "      <td>1</td>\n",
       "    </tr>\n",
       "    <tr>\n",
       "      <th>3</th>\n",
       "      <td>JOB1362684407690</td>\n",
       "      <td>COMP38</td>\n",
       "      <td>8</td>\n",
       "      <td>17</td>\n",
       "      <td>142</td>\n",
       "      <td>Medium</td>\n",
       "      <td>0</td>\n",
       "      <td>0</td>\n",
       "      <td>0</td>\n",
       "      <td>0</td>\n",
       "      <td>...</td>\n",
       "      <td>0</td>\n",
       "      <td>0</td>\n",
       "      <td>0</td>\n",
       "      <td>1</td>\n",
       "      <td>0</td>\n",
       "      <td>0</td>\n",
       "      <td>0</td>\n",
       "      <td>0</td>\n",
       "      <td>0</td>\n",
       "      <td>0</td>\n",
       "    </tr>\n",
       "    <tr>\n",
       "      <th>4</th>\n",
       "      <td>JOB1362684407691</td>\n",
       "      <td>COMP7</td>\n",
       "      <td>8</td>\n",
       "      <td>16</td>\n",
       "      <td>163</td>\n",
       "      <td>Medium</td>\n",
       "      <td>0</td>\n",
       "      <td>0</td>\n",
       "      <td>0</td>\n",
       "      <td>0</td>\n",
       "      <td>...</td>\n",
       "      <td>0</td>\n",
       "      <td>0</td>\n",
       "      <td>0</td>\n",
       "      <td>0</td>\n",
       "      <td>0</td>\n",
       "      <td>0</td>\n",
       "      <td>0</td>\n",
       "      <td>0</td>\n",
       "      <td>0</td>\n",
       "      <td>1</td>\n",
       "    </tr>\n",
       "  </tbody>\n",
       "</table>\n",
       "<p>5 rows × 31 columns</p>\n",
       "</div>"
      ],
      "text/plain": [
       "              jobId companyId  yearsExperience  milesFromMetropolis  salary  \\\n",
       "0  JOB1362684407687    COMP37               10                   83     130   \n",
       "1  JOB1362684407688    COMP19                3                   73     101   \n",
       "2  JOB1362684407689    COMP52               10                   38     137   \n",
       "3  JOB1362684407690    COMP38                8                   17     142   \n",
       "4  JOB1362684407691     COMP7                8                   16     163   \n",
       "\n",
       "  salary-binned  jobType_CFO  jobType_CTO  jobType_JANITOR  jobType_JUNIOR  \\\n",
       "0        Medium            1            0                0               0   \n",
       "1           Low            0            0                0               0   \n",
       "2        Medium            0            0                0               0   \n",
       "3        Medium            0            0                0               0   \n",
       "4        Medium            0            0                0               0   \n",
       "\n",
       "   ...  degree_MASTERS  degree_NONE  major_BUSINESS  major_CHEMISTRY  \\\n",
       "0  ...               1            0               0                0   \n",
       "1  ...               0            0               0                0   \n",
       "2  ...               0            0               0                0   \n",
       "3  ...               0            0               0                1   \n",
       "4  ...               0            0               0                0   \n",
       "\n",
       "   major_COMPSCI  major_ENGINEERING  major_LITERATURE  major_MATH  major_NONE  \\\n",
       "0              0                  0                 0           1           0   \n",
       "1              0                  0                 0           0           1   \n",
       "2              0                  0                 0           0           0   \n",
       "3              0                  0                 0           0           0   \n",
       "4              0                  0                 0           0           0   \n",
       "\n",
       "   major_PHYSICS  \n",
       "0              0  \n",
       "1              0  \n",
       "2              1  \n",
       "3              0  \n",
       "4              1  \n",
       "\n",
       "[5 rows x 31 columns]"
      ]
     },
     "execution_count": 52,
     "metadata": {},
     "output_type": "execute_result"
    }
   ],
   "source": [
    "#make sure that data is ready for modeling\n",
    "#create any new features needed to potentially enhance model\n",
    "# creating initial dataframe\n",
    "# generate binary values using get_dummies\n",
    "df_onHtEnc = pd.get_dummies(df_onHtEnc, columns=[\"jobType\"], drop_first=True)\n",
    "df_onHtEnc = pd.get_dummies(df_onHtEnc, columns=[\"industry\"], drop_first=True)\n",
    "df_onHtEnc = pd.get_dummies(df_onHtEnc, columns=[\"degree\"],drop_first=True)\n",
    "df_onHtEnc = pd.get_dummies(df_onHtEnc, columns=[\"major\"],drop_first=True)\n",
    "# merge with main df bridge_df on key values\n",
    "df_onHtEnc.head()"
   ]
  },
  {
   "cell_type": "code",
   "execution_count": 53,
   "metadata": {},
   "outputs": [],
   "source": [
    "#df_onHtEnc.info()"
   ]
  },
  {
   "cell_type": "code",
   "execution_count": 54,
   "metadata": {},
   "outputs": [],
   "source": [
    "df_fin_model=df_final.copy(deep=True)"
   ]
  },
  {
   "cell_type": "code",
   "execution_count": 55,
   "metadata": {},
   "outputs": [
    {
     "data": {
      "text/html": [
       "<div>\n",
       "<style scoped>\n",
       "    .dataframe tbody tr th:only-of-type {\n",
       "        vertical-align: middle;\n",
       "    }\n",
       "\n",
       "    .dataframe tbody tr th {\n",
       "        vertical-align: top;\n",
       "    }\n",
       "\n",
       "    .dataframe thead th {\n",
       "        text-align: right;\n",
       "    }\n",
       "</style>\n",
       "<table border=\"1\" class=\"dataframe\">\n",
       "  <thead>\n",
       "    <tr style=\"text-align: right;\">\n",
       "      <th></th>\n",
       "      <th>jobId</th>\n",
       "      <th>companyId</th>\n",
       "      <th>jobType</th>\n",
       "      <th>degree</th>\n",
       "      <th>major</th>\n",
       "      <th>industry</th>\n",
       "      <th>yearsExperience</th>\n",
       "      <th>milesFromMetropolis</th>\n",
       "      <th>salary</th>\n",
       "      <th>salary-binned</th>\n",
       "    </tr>\n",
       "  </thead>\n",
       "  <tbody>\n",
       "    <tr>\n",
       "      <th>0</th>\n",
       "      <td>JOB1362684407687</td>\n",
       "      <td>COMP37</td>\n",
       "      <td>CFO</td>\n",
       "      <td>MASTERS</td>\n",
       "      <td>MATH</td>\n",
       "      <td>HEALTH</td>\n",
       "      <td>0.416667</td>\n",
       "      <td>0.838384</td>\n",
       "      <td>130</td>\n",
       "      <td>Medium</td>\n",
       "    </tr>\n",
       "    <tr>\n",
       "      <th>1</th>\n",
       "      <td>JOB1362684407688</td>\n",
       "      <td>COMP19</td>\n",
       "      <td>CEO</td>\n",
       "      <td>HIGH_SCHOOL</td>\n",
       "      <td>NONE</td>\n",
       "      <td>WEB</td>\n",
       "      <td>0.125000</td>\n",
       "      <td>0.737374</td>\n",
       "      <td>101</td>\n",
       "      <td>Low</td>\n",
       "    </tr>\n",
       "    <tr>\n",
       "      <th>2</th>\n",
       "      <td>JOB1362684407689</td>\n",
       "      <td>COMP52</td>\n",
       "      <td>VICE_PRESIDENT</td>\n",
       "      <td>DOCTORAL</td>\n",
       "      <td>PHYSICS</td>\n",
       "      <td>HEALTH</td>\n",
       "      <td>0.416667</td>\n",
       "      <td>0.383838</td>\n",
       "      <td>137</td>\n",
       "      <td>Medium</td>\n",
       "    </tr>\n",
       "    <tr>\n",
       "      <th>3</th>\n",
       "      <td>JOB1362684407690</td>\n",
       "      <td>COMP38</td>\n",
       "      <td>MANAGER</td>\n",
       "      <td>DOCTORAL</td>\n",
       "      <td>CHEMISTRY</td>\n",
       "      <td>AUTO</td>\n",
       "      <td>0.333333</td>\n",
       "      <td>0.171717</td>\n",
       "      <td>142</td>\n",
       "      <td>Medium</td>\n",
       "    </tr>\n",
       "    <tr>\n",
       "      <th>4</th>\n",
       "      <td>JOB1362684407691</td>\n",
       "      <td>COMP7</td>\n",
       "      <td>VICE_PRESIDENT</td>\n",
       "      <td>BACHELORS</td>\n",
       "      <td>PHYSICS</td>\n",
       "      <td>FINANCE</td>\n",
       "      <td>0.333333</td>\n",
       "      <td>0.161616</td>\n",
       "      <td>163</td>\n",
       "      <td>Medium</td>\n",
       "    </tr>\n",
       "  </tbody>\n",
       "</table>\n",
       "</div>"
      ],
      "text/plain": [
       "              jobId companyId         jobType       degree      major  \\\n",
       "0  JOB1362684407687    COMP37             CFO      MASTERS       MATH   \n",
       "1  JOB1362684407688    COMP19             CEO  HIGH_SCHOOL       NONE   \n",
       "2  JOB1362684407689    COMP52  VICE_PRESIDENT     DOCTORAL    PHYSICS   \n",
       "3  JOB1362684407690    COMP38         MANAGER     DOCTORAL  CHEMISTRY   \n",
       "4  JOB1362684407691     COMP7  VICE_PRESIDENT    BACHELORS    PHYSICS   \n",
       "\n",
       "  industry  yearsExperience  milesFromMetropolis  salary salary-binned  \n",
       "0   HEALTH         0.416667             0.838384     130        Medium  \n",
       "1      WEB         0.125000             0.737374     101           Low  \n",
       "2   HEALTH         0.416667             0.383838     137        Medium  \n",
       "3     AUTO         0.333333             0.171717     142        Medium  \n",
       "4  FINANCE         0.333333             0.161616     163        Medium  "
      ]
     },
     "execution_count": 55,
     "metadata": {},
     "output_type": "execute_result"
    }
   ],
   "source": [
    "scaler = MinMaxScaler()\n",
    "# transform data\n",
    "df_fin_model[['yearsExperience', 'milesFromMetropolis']] = scaler.fit_transform(df_fin_model[['yearsExperience', 'milesFromMetropolis']])\n",
    "df_fin_model.head()"
   ]
  },
  {
   "cell_type": "markdown",
   "metadata": {},
   "source": [
    "### ---- 8 Create models ----"
   ]
  },
  {
   "cell_type": "code",
   "execution_count": 56,
   "metadata": {},
   "outputs": [],
   "source": [
    "# For Model Analysis\n",
    "\n",
    "\n",
    "# Define the predictor and the target variables X and Y respectively\n",
    "cat_features = ['jobType','industry','degree','major']\n",
    "num_features = df_fin_model[['yearsExperience', 'milesFromMetropolis']]\n",
    "Y = df_fin_model.salary\n",
    "X = df_fin_model[cat_features]\n",
    "X = pd.get_dummies(data=X)\n",
    "X = pd.concat([X,num_features],axis=1)\n",
    "#X.head()\n",
    "\n",
    "X_train, X_test, Y_train, Y_test = train_test_split(X, Y, test_size = .20, random_state = 100)"
   ]
  },
  {
   "cell_type": "code",
   "execution_count": 57,
   "metadata": {},
   "outputs": [
    {
     "name": "stdout",
     "output_type": "stream",
     "text": [
      "The mean absolute error (MSE) on test set: 15.8104\n",
      "The mean squared error (MSE) on test set: 382.8616\n",
      "The r squared error (MSE) on test set: 0.7439\n"
     ]
    }
   ],
   "source": [
    "# For Multiple Linear Regression(MLR) model analysis\n",
    "\n",
    "# Create the linear regression object using the constructor\n",
    "regr = linear_model.LinearRegression()\n",
    "\n",
    "# Fit the model\n",
    "regr.fit(X_train, Y_train)\n",
    "regr.score(X_train, Y_train)\n",
    "\n",
    "# Obtain the prediction\n",
    "predicted_mlr = regr.predict(X_test)\n",
    "#print(predicted_lr)\n",
    "\n",
    "# Obtain the mean absolute, mean squared, r-squares\n",
    "mae_MLR = mean_absolute_error(Y_test, predicted_mlr)\n",
    "print(\"The mean absolute error (MSE) on test set: {:.4f}\".format(mae_MLR))\n",
    "#print(mae_MLR)\n",
    "\n",
    "#print(\"First in-sample predictions:\", regr.predict(X_test.head()))\n",
    "#print(\"Actual target values for those homes:\", Y.head().tolist())\n",
    "\n",
    "mse_MLR = mean_squared_error(Y_test, predicted_mlr)\n",
    "print(\"The mean squared error (MSE) on test set: {:.4f}\".format(mse_MLR))\n",
    "#print(mse_MLR)\n",
    "\n",
    "#print(\"First in-sample predictions:\", regr.predict(X_test.head()))\n",
    "#print(\"Actual target values for those homes:\", Y.head().tolist())\n",
    "#rmse = np.sqrt(mean_squared_error(Y_test,predicted_lr))\n",
    "#print(rmse)\n",
    "\n",
    "r2_MLR = r2_score(Y_test,predicted_mlr)\n",
    "print(\"The r squared error (MSE) on test set: {:.4f}\".format(r2_MLR))\n",
    "#print(r2_MLR)\n",
    "\n",
    "\n"
   ]
  },
  {
   "cell_type": "code",
   "execution_count": 58,
   "metadata": {},
   "outputs": [
    {
     "data": {
      "image/png": "[encoded data removed]",
      "text/plain": [
       "<Figure size 720x360 with 1 Axes>"
      ]
     },
     "metadata": {
      "needs_background": "light"
     },
     "output_type": "display_data"
    }
   ],
   "source": [
    "# Multiple Linear Regression Model evaluation using visualisation\n",
    "ax1=sns.kdeplot(df_fin_model['salary'],color='r',label=\"Actual Values\")\n",
    "ax1=sns.kdeplot(predicted_mlr,color='b',label=\"Fitted Values\")\n",
    "plt.legend()\n",
    "plt.title(\"Actual vs Fitted Values Salary Prediction (Multiple Linear Regression Model)\")\n",
    "plt.show()"
   ]
  },
  {
   "cell_type": "code",
   "execution_count": 59,
   "metadata": {},
   "outputs": [
    {
     "name": "stdout",
     "output_type": "stream",
     "text": [
      "The mean absolute error (MSE) on test set: 15.5260\n",
      "The mean squared error (MSE) on test set: 368.9499\n",
      "The r squared error (MSE) on test set: 0.7532\n"
     ]
    },
    {
     "ename": "AttributeError",
     "evalue": "'NoneType' object has no attribute 'append'",
     "output_type": "error",
     "traceback": [
      "\u001b[1;31m---------------------------------------------------------------------------\u001b[0m",
      "\u001b[1;31mAttributeError\u001b[0m                            Traceback (most recent call last)",
      "\u001b[1;32m<ipython-input-59-bc65e9c7a9f0>\u001b[0m in \u001b[0;36m<module>\u001b[1;34m\u001b[0m\n\u001b[0;32m     14\u001b[0m \u001b[1;31m#print(mean_squared_error(Y_test, predicted_rf))\u001b[0m\u001b[1;33m\u001b[0m\u001b[1;33m\u001b[0m\u001b[1;33m\u001b[0m\u001b[0m\n\u001b[0;32m     15\u001b[0m \u001b[1;33m\u001b[0m\u001b[0m\n\u001b[1;32m---> 16\u001b[1;33m \u001b[0mAnalysis_Results\u001b[0m \u001b[1;33m=\u001b[0m \u001b[0mAnalysis_Results\u001b[0m\u001b[1;33m.\u001b[0m\u001b[0mappend\u001b[0m\u001b[1;33m(\u001b[0m\u001b[1;33m[\u001b[0m\u001b[1;34m'Random Forest'\u001b[0m\u001b[1;33m,\u001b[0m \u001b[0mmae_RF\u001b[0m\u001b[1;33m,\u001b[0m \u001b[0mmse_RF\u001b[0m\u001b[1;33m,\u001b[0m \u001b[0mr2_RF\u001b[0m\u001b[1;33m]\u001b[0m\u001b[1;33m)\u001b[0m\u001b[1;33m\u001b[0m\u001b[1;33m\u001b[0m\u001b[0m\n\u001b[0m",
      "\u001b[1;31mAttributeError\u001b[0m: 'NoneType' object has no attribute 'append'"
     ]
    }
   ],
   "source": [
    "# For Random Forest Regression Model analysis\n",
    "\n",
    "forest_model = RandomForestRegressor(n_estimators=200,min_samples_leaf=50,n_jobs=2,max_features=\"auto\",oob_score=True,random_state=100)\n",
    "forest_model.fit(X_train, Y_train)\n",
    "predicted_rf = forest_model.predict(X_test)\n",
    "\n",
    "mae_RF = mean_absolute_error(Y_test, predicted_rf)\n",
    "mse_RF = mean_squared_error(Y_test, predicted_rf)\n",
    "r2_RF = r2_score(Y_test,predicted_rf)\n",
    "print(\"The mean absolute error (MSE) on test set: {:.4f}\".format(mae_RF))\n",
    "print(\"The mean squared error (MSE) on test set: {:.4f}\".format(mse_RF))\n",
    "print(\"The r squared error (MSE) on test set: {:.4f}\".format(r2_RF))\n",
    "#print(mean_absolute_error(Y_test, predicted_rf))\n",
    "#print(mean_squared_error(Y_test, predicted_rf))\n",
    "\n"
   ]
  },
  {
   "cell_type": "code",
   "execution_count": 60,
   "metadata": {},
   "outputs": [
    {
     "data": {
      "image/png": "[encoded data removed]",
      "text/plain": [
       "<Figure size 720x360 with 1 Axes>"
      ]
     },
     "metadata": {
      "needs_background": "light"
     },
     "output_type": "display_data"
    }
   ],
   "source": [
    "# Random Forest Regression Model evaluation using visualisation\n",
    "ax1=sns.kdeplot(df_fin_model['salary'],color='r',label=\"Actual Values\")\n",
    "ax1=sns.kdeplot(predicted_rf,color='b',label=\"Fitted Values\")\n",
    "plt.legend()\n",
    "plt.title(\"Actual vs Fitted Values Salary Prediction (Random Forest Regression Model)\")\n",
    "plt.show()"
   ]
  },
  {
   "cell_type": "code",
   "execution_count": 61,
   "metadata": {},
   "outputs": [
    {
     "name": "stdout",
     "output_type": "stream",
     "text": [
      "The mean absolute error (MSE) on test set: 15.3053\n",
      "The mean squared error (MSE) on test set: 355.1737\n",
      "The r squared error (MSE) on test set: 0.7624\n"
     ]
    }
   ],
   "source": [
    "# For Gradient Boosting Model analysis\n",
    "\n",
    "grdbst_model = GradientBoostingRegressor(n_estimators=200,max_depth= 5,loss='ls',random_state=100)\n",
    "grdbst_model.fit(X_train, Y_train)\n",
    "predicted_gb = grdbst_model.predict(X_test)\n",
    "\n",
    "mae_GB = mean_absolute_error(Y_test, predicted_gb)\n",
    "mse_GB = mean_squared_error(Y_test, predicted_gb)\n",
    "r2_GB = r2_score(Y_test,predicted_gb)\n",
    "print(\"The mean absolute error (MSE) on test set: {:.4f}\".format(mae_GB))\n",
    "print(\"The mean squared error (MSE) on test set: {:.4f}\".format(mse_GB))\n",
    "print(\"The r squared error (MSE) on test set: {:.4f}\".format(r2_GB))\n",
    "\n",
    "#Analysis_Results = Analysis_Results.append(['Gradient Boosting', mae_GB, mse_GB, r2_GB])"
   ]
  },
  {
   "cell_type": "code",
   "execution_count": 62,
   "metadata": {},
   "outputs": [
    {
     "data": {
      "image/png": "[encoded data removed]",
      "text/plain": [
       "<Figure size 720x360 with 1 Axes>"
      ]
     },
     "metadata": {
      "needs_background": "light"
     },
     "output_type": "display_data"
    }
   ],
   "source": [
    "# Gradient Boosting Model evaluation using visualisation\n",
    "ax1=sns.kdeplot(df_fin_model['salary'],color='r',label=\"Actual Values\")\n",
    "ax1=sns.kdeplot(predicted_gb,color='b',label=\"Fitted Values\")\n",
    "plt.legend()\n",
    "plt.title(\"Actual vs Fitted Values Salary Prediction (Gradient Boosting Model)\")\n",
    "plt.show()"
   ]
  },
  {
   "cell_type": "code",
   "execution_count": 63,
   "metadata": {},
   "outputs": [],
   "source": [
    "# Create the multiple polynomial regression object using the constructor\n",
    "pr = PolynomialFeatures(degree=2,include_bias=False)\n",
    "\n",
    "# Transforming the predictor variables equation\n",
    "X_poly=pr.fit_transform(X)\n",
    "#print(X_poly)"
   ]
  },
  {
   "cell_type": "code",
   "execution_count": 64,
   "metadata": {},
   "outputs": [
    {
     "name": "stdout",
     "output_type": "stream",
     "text": [
      "The mean absolute error (MSE) on test set: 15.3053\n",
      "The mean squared error (MSE) on test set: 355.1737\n",
      "The r squared error (MSE) on test set: 0.7624\n"
     ]
    }
   ],
   "source": [
    "X_train_pr, X_test_pr, Y_train_pr, Y_test_pr = train_test_split(X_poly, Y, test_size = .20, random_state = 100)\n",
    "\n",
    "pregr = linear_model.LinearRegression()\n",
    "# Fit the model\n",
    "pregr.fit(X_train_pr, Y_train_pr)\n",
    "#regr.score(X_train, Y_train)\n",
    "\n",
    "# Obtain the prediction\n",
    "predicted_pr = pregr.predict(X_test_pr)\n",
    "#print(predicted)\n",
    "\n",
    "mae_PR = mean_absolute_error(Y_test_pr, predicted_gb)\n",
    "mse_PR = mean_squared_error(Y_test_pr, predicted_gb)\n",
    "r2_PR = r2_score(Y_test_pr,predicted_gb)\n",
    "\n",
    "print(\"The mean absolute error (MSE) on test set: {:.4f}\".format(mae_PR))\n",
    "#print(\"First in-sample predictions:\", regr.predict(X_test.head()))\n",
    "#print(\"Actual target values for those homes:\", Y.head().tolist())\n",
    "\n",
    "print(\"The mean squared error (MSE) on test set: {:.4f}\".format(mse_PR))\n",
    "#print(\"First in-sample predictions:\", regr.predict(X_test.head()))\n",
    "#print(\"Actual target values for those homes:\", Y.head().tolist())\n",
    "\n",
    "print(\"The r squared error (MSE) on test set: {:.4f}\".format(r2_PR))\n",
    "\n",
    "#Analysis_Results = Analysis_Results.append(['Polynomial Regression', mae_PR, mse_PR, r2_PR])"
   ]
  },
  {
   "cell_type": "code",
   "execution_count": 65,
   "metadata": {},
   "outputs": [
    {
     "data": {
      "image/png": "[encoded data removed]",
      "text/plain": [
       "<Figure size 720x360 with 1 Axes>"
      ]
     },
     "metadata": {
      "needs_background": "light"
     },
     "output_type": "display_data"
    }
   ],
   "source": [
    "# Polynomial Regression Model evaluation using visualisation\n",
    "ax1=sns.kdeplot(df_fin_model['salary'],color='r',label=\"Actual Values\")\n",
    "ax1=sns.kdeplot(predicted_pr,color='b',label=\"Fitted Values\")\n",
    "plt.legend()\n",
    "plt.title(\"Actual vs Fitted Values Salary Prediction (Polynomial Regression Model)\")\n",
    "plt.show()"
   ]
  },
  {
   "cell_type": "code",
   "execution_count": 78,
   "metadata": {},
   "outputs": [
    {
     "name": "stdout",
     "output_type": "stream",
     "text": [
      "[['Multiple Linear Regression', 15.810374930419922, 382.86162410710784, 0.7439209877728821], ['Random Forest', 15.525967507795922, 368.94986413667993, 0.7532259416446008], ['Gradient Boosting', 15.30531853042571, 355.1737321179527, 0.762440180047035], ['Polynomial Regression', 15.30531853042571, 355.1737321179527, 0.762440180047035]]\n"
     ]
    }
   ],
   "source": [
    "# Creating a list to strore the results\n",
    "Analysis_Results = [['Multiple Linear Regression', mae_MLR, mse_MLR, r2_MLR],['Random Forest', mae_RF, mse_RF, r2_RF],['Gradient Boosting', mae_GB, mse_GB, r2_GB],['Polynomial Regression', mae_PR, mse_PR, r2_PR]]\n",
    "print(Analysis_Results)\n",
    "df_Result=pd.DataFrame(Analysis_Results)"
   ]
  },
  {
   "cell_type": "code",
   "execution_count": 80,
   "metadata": {},
   "outputs": [
    {
     "data": {
      "text/html": [
       "<div>\n",
       "<style scoped>\n",
       "    .dataframe tbody tr th:only-of-type {\n",
       "        vertical-align: middle;\n",
       "    }\n",
       "\n",
       "    .dataframe tbody tr th {\n",
       "        vertical-align: top;\n",
       "    }\n",
       "\n",
       "    .dataframe thead th {\n",
       "        text-align: right;\n",
       "    }\n",
       "</style>\n",
       "<table border=\"1\" class=\"dataframe\">\n",
       "  <thead>\n",
       "    <tr style=\"text-align: right;\">\n",
       "      <th></th>\n",
       "      <th>Model</th>\n",
       "      <th>Mean_Absolute_Error</th>\n",
       "      <th>Mean_Squared_Error</th>\n",
       "      <th>R_squared</th>\n",
       "    </tr>\n",
       "  </thead>\n",
       "  <tbody>\n",
       "    <tr>\n",
       "      <th>0</th>\n",
       "      <td>Multiple Linear Regression</td>\n",
       "      <td>15.810375</td>\n",
       "      <td>382.861624</td>\n",
       "      <td>0.743921</td>\n",
       "    </tr>\n",
       "    <tr>\n",
       "      <th>1</th>\n",
       "      <td>Random Forest</td>\n",
       "      <td>15.525968</td>\n",
       "      <td>368.949864</td>\n",
       "      <td>0.753226</td>\n",
       "    </tr>\n",
       "    <tr>\n",
       "      <th>2</th>\n",
       "      <td>Gradient Boosting</td>\n",
       "      <td>15.305319</td>\n",
       "      <td>355.173732</td>\n",
       "      <td>0.762440</td>\n",
       "    </tr>\n",
       "    <tr>\n",
       "      <th>3</th>\n",
       "      <td>Polynomial Regression</td>\n",
       "      <td>15.305319</td>\n",
       "      <td>355.173732</td>\n",
       "      <td>0.762440</td>\n",
       "    </tr>\n",
       "  </tbody>\n",
       "</table>\n",
       "</div>"
      ],
      "text/plain": [
       "                        Model  Mean_Absolute_Error  Mean_Squared_Error  \\\n",
       "0  Multiple Linear Regression            15.810375          382.861624   \n",
       "1               Random Forest            15.525968          368.949864   \n",
       "2           Gradient Boosting            15.305319          355.173732   \n",
       "3       Polynomial Regression            15.305319          355.173732   \n",
       "\n",
       "   R_squared  \n",
       "0   0.743921  \n",
       "1   0.753226  \n",
       "2   0.762440  \n",
       "3   0.762440  "
      ]
     },
     "execution_count": 80,
     "metadata": {},
     "output_type": "execute_result"
    }
   ],
   "source": [
    "headers = [\"Model\",\"Mean_Absolute_Error\",\"Mean_Squared_Error\",\"R_squared\"]\n",
    "df_Result.columns = headers\n",
    "df_Result.head()"
   ]
  },
  {
   "cell_type": "markdown",
   "metadata": {},
   "source": [
    "### ---- 9 Test models ----"
   ]
  },
  {
   "cell_type": "code",
   "execution_count": 66,
   "metadata": {},
   "outputs": [
    {
     "name": "stdout",
     "output_type": "stream",
     "text": [
      "The cross validation score for Linear Model: 0.7435\n",
      "The cross validation score for Random Forest Model: 0.7515\n",
      "The cross validation score for Gradient Boost Model: 0.7622\n",
      "The cross validation score for Polynomial Regression Model: 0.7638\n"
     ]
    }
   ],
   "source": [
    "#do 5-fold cross validation on models and measure MSE\n",
    "\n",
    "scores_mlr=cross_val_score(regr,X_train, Y_train,cv=5)\n",
    "scores_mlr=np.mean(scores_mlr)\n",
    "print(\"The cross validation score for Linear Model: {:.4f}\".format(scores_mlr))\n",
    "\n",
    "scores_rf=cross_val_score(forest_model,X_train, Y_train,cv=5)\n",
    "scores_rf=np.mean(scores_rf)\n",
    "print(\"The cross validation score for Random Forest Model: {:.4f}\".format(scores_rf))\n",
    "\n",
    "scores_gb=cross_val_score(grdbst_model,X_train, Y_train,cv=5)\n",
    "scores_gb=np.mean(scores_gb)\n",
    "print(\"The cross validation score for Gradient Boost Model: {:.4f}\".format(scores_gb))\n",
    "\n",
    "scores_pr=cross_val_score(pregr,X_train_pr, Y_train_pr,cv=5)\n",
    "scores_pr=np.mean(scores_pr)\n",
    "print(\"The cross validation score for Polynomial Regression Model: {:.4f}\".format(scores_pr))\n"
   ]
  },
  {
   "cell_type": "code",
   "execution_count": null,
   "metadata": {},
   "outputs": [
    {
     "name": "stderr",
     "output_type": "stream",
     "text": [
      "C:\\Users\\abhis\\anaconda3\\lib\\site-packages\\sklearn\\model_selection\\_split.py:670: UserWarning: The least populated class in y has only 1 members, which is less than n_splits=5.\n",
      "  warnings.warn((\"The least populated class in y has only %d\"\n"
     ]
    }
   ],
   "source": [
    "model = svm.SVC()\n",
    "accuracy=cross_val_score(model,X_train, Y_train,cv=5, scoring='accuracy')\n",
    "accuracy\n",
    "#print(\"The cross validation score for Linear Model: {:.4f}\".format(scores_mlr))"
   ]
  },
  {
   "cell_type": "markdown",
   "metadata": {},
   "source": [
    "### ---- 10 Select best model  ----"
   ]
  },
  {
   "cell_type": "code",
   "execution_count": null,
   "metadata": {},
   "outputs": [],
   "source": [
    "#select the model with the lowest error as your \"prodcuction\" model"
   ]
  },
  {
   "cell_type": "markdown",
   "metadata": {},
   "source": [
    "## Part 4 - DEPLOY"
   ]
  },
  {
   "cell_type": "markdown",
   "metadata": {},
   "source": [
    "### ---- 11 Automate pipeline ----"
   ]
  },
  {
   "cell_type": "code",
   "execution_count": null,
   "metadata": {},
   "outputs": [],
   "source": [
    "#write script that trains model on entire training set, saves model to disk,\n",
    "#and scores the \"test\" dataset"
   ]
  },
  {
   "cell_type": "markdown",
   "metadata": {},
   "source": [
    "### ---- 12 Deploy solution ----"
   ]
  },
  {
   "cell_type": "code",
   "execution_count": null,
   "metadata": {},
   "outputs": [],
   "source": [
    "#save your prediction to a csv file or optionally save them as a table in a SQL database\n",
    "#additionally, you want to save a visualization and summary of your prediction and feature importances\n",
    "#these visualizations and summaries will be extremely useful to business stakeholders"
   ]
  },
  {
   "cell_type": "markdown",
   "metadata": {},
   "source": [
    "### ---- 13 Measure efficacy ----"
   ]
  },
  {
   "cell_type": "markdown",
   "metadata": {},
   "source": [
    "We'll skip this step since we don't have the outcomes for the test data"
   ]
  },
  {
   "cell_type": "code",
   "execution_count": null,
   "metadata": {},
   "outputs": [],
   "source": []
  },
  {
   "cell_type": "code",
   "execution_count": null,
   "metadata": {},
   "outputs": [],
   "source": []
  },
  {
   "cell_type": "code",
   "execution_count": null,
   "metadata": {},
   "outputs": [],
   "source": []
  },
  {
   "cell_type": "code",
   "execution_count": null,
   "metadata": {},
   "outputs": [],
   "source": []
  }
 ],
 "metadata": {
  "kernelspec": {
   "display_name": "Python 3",
   "language": "python",
   "name": "python3"
  },
  "language_info": {
   "codemirror_mode": {
    "name": "ipython",
    "version": 3
   },
   "file_extension": ".py",
   "mimetype": "text/x-python",
   "name": "python",
   "nbconvert_exporter": "python",
   "pygments_lexer": "ipython3",
   "version": "3.8.5"
  }
 },
 "nbformat": 4,
 "nbformat_minor": 2
}
